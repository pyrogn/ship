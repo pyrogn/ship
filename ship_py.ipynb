{
 "cells": [
  {
   "cell_type": "code",
   "execution_count": 1,
   "metadata": {},
   "outputs": [],
   "source": [
    "import numpy as np\n",
    "import pandas as pd\n",
    "import random\n",
    "import matplotlib.pyplot as plt"
   ]
  },
  {
   "cell_type": "markdown",
   "metadata": {},
   "source": [
    "## Какая проблема?\n",
    "Защитить свой шаттл."
   ]
  },
  {
   "cell_type": "markdown",
   "metadata": {},
   "source": [
    "## Оптимальное решение\n",
    "\n",
    "Мы будем искать кластеры по окружностям, так как считаем, что наше оружение эффективно только в определенном радиусе."
   ]
  },
  {
   "cell_type": "code",
   "execution_count": 2,
   "metadata": {},
   "outputs": [],
   "source": [
    "df = pd.read_csv(\n",
    "    \"data/Ship game.csv\",\n",
    "    sep=\";\",\n",
    "    names=[\"ship\", \"x\", \"y\", \"z\"],\n",
    "    usecols=range(4),\n",
    "    skiprows=1,\n",
    ")"
   ]
  },
  {
   "cell_type": "code",
   "execution_count": 3,
   "metadata": {},
   "outputs": [
    {
     "data": {
      "text/html": [
       "<div>\n",
       "<style scoped>\n",
       "    .dataframe tbody tr th:only-of-type {\n",
       "        vertical-align: middle;\n",
       "    }\n",
       "\n",
       "    .dataframe tbody tr th {\n",
       "        vertical-align: top;\n",
       "    }\n",
       "\n",
       "    .dataframe thead th {\n",
       "        text-align: right;\n",
       "    }\n",
       "</style>\n",
       "<table border=\"1\" class=\"dataframe\">\n",
       "  <thead>\n",
       "    <tr style=\"text-align: right;\">\n",
       "      <th></th>\n",
       "      <th>ship</th>\n",
       "      <th>x</th>\n",
       "      <th>y</th>\n",
       "      <th>z</th>\n",
       "    </tr>\n",
       "  </thead>\n",
       "  <tbody>\n",
       "    <tr>\n",
       "      <th>0</th>\n",
       "      <td>You</td>\n",
       "      <td>15</td>\n",
       "      <td>15</td>\n",
       "      <td>15</td>\n",
       "    </tr>\n",
       "    <tr>\n",
       "      <th>1</th>\n",
       "      <td>Shuttle</td>\n",
       "      <td>10</td>\n",
       "      <td>10</td>\n",
       "      <td>10</td>\n",
       "    </tr>\n",
       "    <tr>\n",
       "      <th>2</th>\n",
       "      <td>CSM_1</td>\n",
       "      <td>200</td>\n",
       "      <td>150</td>\n",
       "      <td>150</td>\n",
       "    </tr>\n",
       "    <tr>\n",
       "      <th>3</th>\n",
       "      <td>CSM_2</td>\n",
       "      <td>210</td>\n",
       "      <td>130</td>\n",
       "      <td>140</td>\n",
       "    </tr>\n",
       "    <tr>\n",
       "      <th>4</th>\n",
       "      <td>CSM_3</td>\n",
       "      <td>205</td>\n",
       "      <td>120</td>\n",
       "      <td>135</td>\n",
       "    </tr>\n",
       "    <tr>\n",
       "      <th>5</th>\n",
       "      <td>CSM_4</td>\n",
       "      <td>205</td>\n",
       "      <td>130</td>\n",
       "      <td>135</td>\n",
       "    </tr>\n",
       "    <tr>\n",
       "      <th>6</th>\n",
       "      <td>CSM_5</td>\n",
       "      <td>205</td>\n",
       "      <td>50</td>\n",
       "      <td>50</td>\n",
       "    </tr>\n",
       "    <tr>\n",
       "      <th>7</th>\n",
       "      <td>CSM_6</td>\n",
       "      <td>205</td>\n",
       "      <td>65</td>\n",
       "      <td>50</td>\n",
       "    </tr>\n",
       "    <tr>\n",
       "      <th>8</th>\n",
       "      <td>CSM_7</td>\n",
       "      <td>210</td>\n",
       "      <td>50</td>\n",
       "      <td>70</td>\n",
       "    </tr>\n",
       "    <tr>\n",
       "      <th>9</th>\n",
       "      <td>CSM_8</td>\n",
       "      <td>200</td>\n",
       "      <td>30</td>\n",
       "      <td>50</td>\n",
       "    </tr>\n",
       "    <tr>\n",
       "      <th>10</th>\n",
       "      <td>CSM_9</td>\n",
       "      <td>100</td>\n",
       "      <td>45</td>\n",
       "      <td>50</td>\n",
       "    </tr>\n",
       "    <tr>\n",
       "      <th>11</th>\n",
       "      <td>CSM_10</td>\n",
       "      <td>45</td>\n",
       "      <td>100</td>\n",
       "      <td>92</td>\n",
       "    </tr>\n",
       "  </tbody>\n",
       "</table>\n",
       "</div>"
      ],
      "text/plain": [
       "        ship    x    y    z\n",
       "0        You   15   15   15\n",
       "1   Shuttle    10   10   10\n",
       "2      CSM_1  200  150  150\n",
       "3      CSM_2  210  130  140\n",
       "4      CSM_3  205  120  135\n",
       "5      CSM_4  205  130  135\n",
       "6      CSM_5  205   50   50\n",
       "7      CSM_6  205   65   50\n",
       "8      CSM_7  210   50   70\n",
       "9      CSM_8  200   30   50\n",
       "10     CSM_9  100   45   50\n",
       "11    CSM_10   45  100   92"
      ]
     },
     "execution_count": 3,
     "metadata": {},
     "output_type": "execute_result"
    }
   ],
   "source": [
    "df"
   ]
  },
  {
   "cell_type": "markdown",
   "metadata": {},
   "source": [
    "Наши предположения:\n",
    "1. Оружие поражает всех в радиусе `RADIUS_DAMAGE`\n",
    "2. За одно мгновение можно поразить `NUM_TARGETS`\n",
    "3. Само положение шаттла или корабля игнорируется"
   ]
  },
  {
   "cell_type": "markdown",
   "metadata": {},
   "source": [
    "Критерий качества кластеризации: максимальное кол-во противников, которые могут быть поражены с учетом вышеописанных констант."
   ]
  },
  {
   "cell_type": "code",
   "execution_count": 4,
   "metadata": {},
   "outputs": [],
   "source": [
    "RADIUS_DAMAGE = 10\n",
    "NUM_TARGETS = 2\n",
    "# кол-во\n",
    "N_ROLLS = 20"
   ]
  },
  {
   "cell_type": "markdown",
   "metadata": {},
   "source": [
    "Координаты противников:"
   ]
  },
  {
   "cell_type": "code",
   "execution_count": 5,
   "metadata": {},
   "outputs": [],
   "source": [
    "coords = df.iloc[2:, 1:].to_numpy()"
   ]
  },
  {
   "cell_type": "code",
   "execution_count": 6,
   "metadata": {},
   "outputs": [
    {
     "data": {
      "text/plain": [
       "array([[200, 150, 150],\n",
       "       [210, 130, 140],\n",
       "       [205, 120, 135],\n",
       "       [205, 130, 135],\n",
       "       [205,  50,  50],\n",
       "       [205,  65,  50],\n",
       "       [210,  50,  70],\n",
       "       [200,  30,  50],\n",
       "       [100,  45,  50],\n",
       "       [ 45, 100,  92]])"
      ]
     },
     "execution_count": 6,
     "metadata": {},
     "output_type": "execute_result"
    }
   ],
   "source": [
    "coords"
   ]
  },
  {
   "cell_type": "code",
   "execution_count": 7,
   "metadata": {},
   "outputs": [],
   "source": [
    "def distance_to_edges(coords, edge):\n",
    "    return np.linalg.norm(coords - edge, axis=1)"
   ]
  },
  {
   "cell_type": "code",
   "execution_count": 8,
   "metadata": {},
   "outputs": [],
   "source": [
    "def closest_edge(coords, edge, include=None):\n",
    "    r = distance_to_edges(coords, edge)\n",
    "    r[r == 0] = np.inf\n",
    "    if include:\n",
    "        for idx_exl in set(range(coords.shape[0])) - include:\n",
    "            r[idx_exl] = np.inf\n",
    "    idx_closest = np.argmin(r)\n",
    "    return idx_closest, r[idx_closest]"
   ]
  },
  {
   "cell_type": "code",
   "execution_count": 9,
   "metadata": {},
   "outputs": [
    {
     "data": {
      "text/plain": [
       "(8, 118.90332207301863)"
      ]
     },
     "execution_count": 9,
     "metadata": {},
     "output_type": "execute_result"
    }
   ],
   "source": [
    "closest_edge(coords, 1)"
   ]
  },
  {
   "cell_type": "code",
   "execution_count": 10,
   "metadata": {},
   "outputs": [],
   "source": [
    "def get_edges(coords, idx):\n",
    "    return np.array([coords[i] for i in idx])"
   ]
  },
  {
   "cell_type": "code",
   "execution_count": 11,
   "metadata": {},
   "outputs": [],
   "source": [
    "def find_centroid(coords, idx):\n",
    "    return get_edges(coords, idx).mean(axis=0)"
   ]
  },
  {
   "cell_type": "code",
   "execution_count": 12,
   "metadata": {},
   "outputs": [],
   "source": [
    "def pop_random_elem_from_set(sset):\n",
    "    el = random.sample(tuple(sset), 1)[0]\n",
    "    sset.remove(el)\n",
    "    return el"
   ]
  },
  {
   "cell_type": "markdown",
   "metadata": {},
   "source": [
    "Алгоритм:\n",
    "1. Находим случайную точку\n",
    "2. ..."
   ]
  },
  {
   "cell_type": "code",
   "execution_count": 13,
   "metadata": {},
   "outputs": [],
   "source": [
    "def score_clustering(clusters) -> int:\n",
    "    \"\"\"Only count matters, not distance\"\"\"\n",
    "    return sum(\n",
    "        [len(v) for _, v in sorted(clusters.items(), key=lambda x: -len(x[1]))][\n",
    "            :NUM_TARGETS\n",
    "        ]\n",
    "    )"
   ]
  },
  {
   "cell_type": "code",
   "execution_count": 14,
   "metadata": {},
   "outputs": [],
   "source": [
    "def find_clusters_greedy(coords, threshold):\n",
    "    \"\"\"Greedy. Threshold is radius.\"\"\"\n",
    "    clusters = {}\n",
    "    available_edges = set(range(coords.shape[0]))\n",
    "    current_cluster = 0\n",
    "    clusters[current_cluster] = [pop_random_elem_from_set(available_edges)]\n",
    "\n",
    "    while available_edges:  # пока есть нераспределенные противники\n",
    "        cluster_center = find_centroid(coords, clusters[current_cluster])\n",
    "\n",
    "        cl_idx, cl_dist = closest_edge(coords, cluster_center, available_edges)\n",
    "        new_cluster_center = find_centroid(coords, clusters[current_cluster] + [cl_idx])\n",
    "\n",
    "        all_distances = distance_to_edges(\n",
    "            get_edges(coords, clusters[current_cluster]), new_cluster_center\n",
    "        )\n",
    "\n",
    "        if cl_dist > threshold or any(all_distances > threshold):\n",
    "            # if new edge is not close or new centroid drifts too far\n",
    "            current_cluster += 1\n",
    "            clusters[current_cluster] = [pop_random_elem_from_set(available_edges)]\n",
    "        else:  # or add edge to current cluster\n",
    "            available_edges.remove(cl_idx)\n",
    "            clusters[current_cluster].append(cl_idx)\n",
    "    return clusters\n",
    "\n",
    "\n",
    "def find_clusters(coords, threshold):\n",
    "    best_clustering = None\n",
    "    max_quality = 0\n",
    "    for _ in range(N_ROLLS):\n",
    "        cl = find_clusters_greedy(coords, threshold)\n",
    "        quality = score_clustering(cl)\n",
    "        if quality > max_quality:\n",
    "            max_quality = quality\n",
    "            best_clustering = cl\n",
    "    return best_clustering"
   ]
  },
  {
   "cell_type": "code",
   "execution_count": 15,
   "metadata": {},
   "outputs": [
    {
     "data": {
      "text/plain": [
       "{0: [2, 3, 1], 1: [8], 2: [5, 4], 3: [6], 4: [7], 5: [9], 6: [0]}"
      ]
     },
     "execution_count": 15,
     "metadata": {},
     "output_type": "execute_result"
    }
   ],
   "source": [
    "l = find_clusters(coords, 20)\n",
    "l"
   ]
  },
  {
   "cell_type": "code",
   "execution_count": 16,
   "metadata": {},
   "outputs": [
    {
     "data": {
      "text/plain": [
       "5"
      ]
     },
     "execution_count": 16,
     "metadata": {},
     "output_type": "execute_result"
    }
   ],
   "source": [
    "score_clustering(l)"
   ]
  },
  {
   "cell_type": "code",
   "execution_count": 17,
   "metadata": {},
   "outputs": [],
   "source": [
    "threshold_quality = {}\n",
    "for threshold in np.linspace(0.001, 200, 1000):\n",
    "    max_quality = 0\n",
    "    for _ in range(N_ROLLS):\n",
    "        cl = find_clusters_greedy(coords, threshold)\n",
    "        quality = score_clustering(cl)\n",
    "        if quality > max_quality:\n",
    "            max_quality = quality\n",
    "    threshold_quality[threshold] = max_quality"
   ]
  },
  {
   "cell_type": "code",
   "execution_count": 18,
   "metadata": {},
   "outputs": [
    {
     "data": {
      "image/png": "[encoded data removed]",
      "text/plain": [
       "<Figure size 640x480 with 1 Axes>"
      ]
     },
     "metadata": {},
     "output_type": "display_data"
    }
   ],
   "source": [
    "plt.plot(*zip(*threshold_quality.items()))\n",
    "plt.xlabel(\"Радиус\")\n",
    "plt.ylabel(\"Кол-во возможных пораженных противников за 1 ход\")\n",
    "None"
   ]
  },
  {
   "cell_type": "code",
   "execution_count": null,
   "metadata": {},
   "outputs": [],
   "source": []
  },
  {
   "cell_type": "code",
   "execution_count": null,
   "metadata": {},
   "outputs": [],
   "source": []
  },
  {
   "cell_type": "code",
   "execution_count": null,
   "metadata": {},
   "outputs": [],
   "source": []
  }
 ],
 "metadata": {
  "kernelspec": {
   "display_name": "aaa",
   "language": "python",
   "name": "python3"
  },
  "language_info": {
   "codemirror_mode": {
    "name": "ipython",
    "version": 3
   },
   "file_extension": ".py",
   "mimetype": "text/x-python",
   "name": "python",
   "nbconvert_exporter": "python",
   "pygments_lexer": "ipython3",
   "version": "3.12.1"
  }
 },
 "nbformat": 4,
 "nbformat_minor": 2
}

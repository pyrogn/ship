{
 "cells": [
  {
   "cell_type": "code",
   "execution_count": 1,
   "metadata": {},
   "outputs": [],
   "source": [
    "include(\"clustering.jl\");\n",
    "using .ShipClustering\n",
    "\n",
    "using CSV\n",
    "using DataFrames\n",
    "using Statistics\n",
    "using Random\n",
    "using PlotlyJS"
   ]
  },
  {
   "cell_type": "markdown",
   "metadata": {},
   "source": [
    "## Какая проблема?\n",
    "Защитить свой шаттл в результате борьбы.\n",
    "\n",
    "Но я не оптимизирую защиту. Только нападение."
   ]
  },
  {
   "cell_type": "markdown",
   "metadata": {},
   "source": [
    "## Оптимальное решение\n",
    "\n",
    "Мы будем искать кластеры по окружностям, так как считаем, что наше оружие эффективно только в определенном радиусе.  \n",
    "То есть задача найти такие цели, в радиус которых попадает как можно больше вражеских кораблей."
   ]
  },
  {
   "cell_type": "code",
   "execution_count": 2,
   "metadata": {},
   "outputs": [],
   "source": [
    "csv = CSV.File(joinpath(\"data\", \"Ship game.csv\"); header=1, skipto=4, delim=\";\", select=1:4);\n",
    "csv4d = CSV.File(joinpath(\"data\", \"Ship game 4d.csv\"); header=1, skipto=4, delim=\";\", select=1:5);"
   ]
  },
  {
   "cell_type": "markdown",
   "metadata": {},
   "source": [
    "Наши предположения:\n",
    "1. Оружие поражает всех в радиусе `RADIUS_DAMAGE`\n",
    "2. За одно мгновение можно поразить `NUM_TARGETS`\n",
    "3. Само положение шаттла или корабля игнорируется\n",
    "4. Качество падания и радиус действия не изменяется в расстоянием."
   ]
  },
  {
   "cell_type": "markdown",
   "metadata": {},
   "source": [
    "Критерий качества кластеризации: максимальное кол-во противников, которые могут быть поражены с учетом вышеописанных констант."
   ]
  },
  {
   "cell_type": "markdown",
   "metadata": {},
   "source": [
    "Получение датафреймов (3d+4d)"
   ]
  },
  {
   "cell_type": "code",
   "execution_count": 3,
   "metadata": {},
   "outputs": [
    {
     "data": {
      "text/html": [
       "<div><div style = \"float: left;\"><span>10×4 DataFrame</span></div><div style = \"clear: both;\"></div></div><div class = \"data-frame\" style = \"overflow-x: scroll;\"><table class = \"data-frame\" style = \"margin-bottom: 6px;\"><thead><tr class = \"header\"><th class = \"rowNumber\" style = \"font-weight: bold; text-align: right;\">Row</th><th style = \"text-align: left;\">ship</th><th style = \"text-align: left;\">x</th><th style = \"text-align: left;\">y</th><th style = \"text-align: left;\">z</th></tr><tr class = \"subheader headerLastRow\"><th class = \"rowNumber\" style = \"font-weight: bold; text-align: right;\"></th><th title = \"String7\" style = \"text-align: left;\">String7</th><th title = \"Int64\" style = \"text-align: left;\">Int64</th><th title = \"Int64\" style = \"text-align: left;\">Int64</th><th title = \"Int64\" style = \"text-align: left;\">Int64</th></tr></thead><tbody><tr><td class = \"rowNumber\" style = \"font-weight: bold; text-align: right;\">1</td><td style = \"text-align: left;\">CSM_1</td><td style = \"text-align: right;\">200</td><td style = \"text-align: right;\">150</td><td style = \"text-align: right;\">150</td></tr><tr><td class = \"rowNumber\" style = \"font-weight: bold; text-align: right;\">2</td><td style = \"text-align: left;\">CSM_2</td><td style = \"text-align: right;\">210</td><td style = \"text-align: right;\">130</td><td style = \"text-align: right;\">140</td></tr><tr><td class = \"rowNumber\" style = \"font-weight: bold; text-align: right;\">3</td><td style = \"text-align: left;\">CSM_3</td><td style = \"text-align: right;\">205</td><td style = \"text-align: right;\">120</td><td style = \"text-align: right;\">135</td></tr><tr><td class = \"rowNumber\" style = \"font-weight: bold; text-align: right;\">4</td><td style = \"text-align: left;\">CSM_4</td><td style = \"text-align: right;\">205</td><td style = \"text-align: right;\">130</td><td style = \"text-align: right;\">135</td></tr><tr><td class = \"rowNumber\" style = \"font-weight: bold; text-align: right;\">5</td><td style = \"text-align: left;\">CSM_5</td><td style = \"text-align: right;\">205</td><td style = \"text-align: right;\">50</td><td style = \"text-align: right;\">50</td></tr><tr><td class = \"rowNumber\" style = \"font-weight: bold; text-align: right;\">6</td><td style = \"text-align: left;\">CSM_6</td><td style = \"text-align: right;\">205</td><td style = \"text-align: right;\">65</td><td style = \"text-align: right;\">50</td></tr><tr><td class = \"rowNumber\" style = \"font-weight: bold; text-align: right;\">7</td><td style = \"text-align: left;\">CSM_7</td><td style = \"text-align: right;\">210</td><td style = \"text-align: right;\">50</td><td style = \"text-align: right;\">70</td></tr><tr><td class = \"rowNumber\" style = \"font-weight: bold; text-align: right;\">8</td><td style = \"text-align: left;\">CSM_8</td><td style = \"text-align: right;\">200</td><td style = \"text-align: right;\">30</td><td style = \"text-align: right;\">50</td></tr><tr><td class = \"rowNumber\" style = \"font-weight: bold; text-align: right;\">9</td><td style = \"text-align: left;\">CSM_9</td><td style = \"text-align: right;\">100</td><td style = \"text-align: right;\">45</td><td style = \"text-align: right;\">50</td></tr><tr><td class = \"rowNumber\" style = \"font-weight: bold; text-align: right;\">10</td><td style = \"text-align: left;\">CSM_10</td><td style = \"text-align: right;\">45</td><td style = \"text-align: right;\">100</td><td style = \"text-align: right;\">92</td></tr></tbody></table></div>"
      ],
      "text/latex": [
       "\\begin{tabular}{r|cccc}\n",
       "\t& ship & x & y & z\\\\\n",
       "\t\\hline\n",
       "\t& String7 & Int64 & Int64 & Int64\\\\\n",
       "\t\\hline\n",
       "\t1 & CSM\\_1 & 200 & 150 & 150 \\\\\n",
       "\t2 & CSM\\_2 & 210 & 130 & 140 \\\\\n",
       "\t3 & CSM\\_3 & 205 & 120 & 135 \\\\\n",
       "\t4 & CSM\\_4 & 205 & 130 & 135 \\\\\n",
       "\t5 & CSM\\_5 & 205 & 50 & 50 \\\\\n",
       "\t6 & CSM\\_6 & 205 & 65 & 50 \\\\\n",
       "\t7 & CSM\\_7 & 210 & 50 & 70 \\\\\n",
       "\t8 & CSM\\_8 & 200 & 30 & 50 \\\\\n",
       "\t9 & CSM\\_9 & 100 & 45 & 50 \\\\\n",
       "\t10 & CSM\\_10 & 45 & 100 & 92 \\\\\n",
       "\\end{tabular}\n"
      ],
      "text/plain": [
       "\u001b[1m10×4 DataFrame\u001b[0m\n",
       "\u001b[1m Row \u001b[0m│\u001b[1m ship    \u001b[0m\u001b[1m x     \u001b[0m\u001b[1m y     \u001b[0m\u001b[1m z     \u001b[0m\n",
       "     │\u001b[90m String7 \u001b[0m\u001b[90m Int64 \u001b[0m\u001b[90m Int64 \u001b[0m\u001b[90m Int64 \u001b[0m\n",
       "─────┼──────────────────────────────\n",
       "   1 │ CSM_1      200    150    150\n",
       "   2 │ CSM_2      210    130    140\n",
       "   3 │ CSM_3      205    120    135\n",
       "   4 │ CSM_4      205    130    135\n",
       "   5 │ CSM_5      205     50     50\n",
       "   6 │ CSM_6      205     65     50\n",
       "   7 │ CSM_7      210     50     70\n",
       "   8 │ CSM_8      200     30     50\n",
       "   9 │ CSM_9      100     45     50\n",
       "  10 │ CSM_10      45    100     92"
      ]
     },
     "metadata": {},
     "output_type": "display_data"
    }
   ],
   "source": [
    "df = DataFrame(csv)\n",
    "df = rename(df, [\"ship\", \"x\", \"y\", \"z\"])"
   ]
  },
  {
   "cell_type": "code",
   "execution_count": 4,
   "metadata": {},
   "outputs": [
    {
     "data": {
      "text/html": [
       "<div><div style = \"float: left;\"><span>13×5 DataFrame</span></div><div style = \"clear: both;\"></div></div><div class = \"data-frame\" style = \"overflow-x: scroll;\"><table class = \"data-frame\" style = \"margin-bottom: 6px;\"><thead><tr class = \"header\"><th class = \"rowNumber\" style = \"font-weight: bold; text-align: right;\">Row</th><th style = \"text-align: left;\">ship</th><th style = \"text-align: left;\">x</th><th style = \"text-align: left;\">y</th><th style = \"text-align: left;\">z</th><th style = \"text-align: left;\">d</th></tr><tr class = \"subheader headerLastRow\"><th class = \"rowNumber\" style = \"font-weight: bold; text-align: right;\"></th><th title = \"String7\" style = \"text-align: left;\">String7</th><th title = \"Int64\" style = \"text-align: left;\">Int64</th><th title = \"Int64\" style = \"text-align: left;\">Int64</th><th title = \"Int64\" style = \"text-align: left;\">Int64</th><th title = \"Float64\" style = \"text-align: left;\">Float64</th></tr></thead><tbody><tr><td class = \"rowNumber\" style = \"font-weight: bold; text-align: right;\">1</td><td style = \"text-align: left;\">CSM_1</td><td style = \"text-align: right;\">200</td><td style = \"text-align: right;\">150</td><td style = \"text-align: right;\">150</td><td style = \"text-align: right;\">73.3333</td></tr><tr><td class = \"rowNumber\" style = \"font-weight: bold; text-align: right;\">2</td><td style = \"text-align: left;\">CSM_2</td><td style = \"text-align: right;\">210</td><td style = \"text-align: right;\">130</td><td style = \"text-align: right;\">140</td><td style = \"text-align: right;\">165.0</td></tr><tr><td class = \"rowNumber\" style = \"font-weight: bold; text-align: right;\">3</td><td style = \"text-align: left;\">CSM_3</td><td style = \"text-align: right;\">205</td><td style = \"text-align: right;\">120</td><td style = \"text-align: right;\">135</td><td style = \"text-align: right;\">128.333</td></tr><tr><td class = \"rowNumber\" style = \"font-weight: bold; text-align: right;\">4</td><td style = \"text-align: left;\">CSM_4</td><td style = \"text-align: right;\">205</td><td style = \"text-align: right;\">130</td><td style = \"text-align: right;\">135</td><td style = \"text-align: right;\">146.667</td></tr><tr><td class = \"rowNumber\" style = \"font-weight: bold; text-align: right;\">5</td><td style = \"text-align: left;\">CSM_5</td><td style = \"text-align: right;\">205</td><td style = \"text-align: right;\">50</td><td style = \"text-align: right;\">50</td><td style = \"text-align: right;\">128.333</td></tr><tr><td class = \"rowNumber\" style = \"font-weight: bold; text-align: right;\">6</td><td style = \"text-align: left;\">CSM_6</td><td style = \"text-align: right;\">205</td><td style = \"text-align: right;\">65</td><td style = \"text-align: right;\">50</td><td style = \"text-align: right;\">128.333</td></tr><tr><td class = \"rowNumber\" style = \"font-weight: bold; text-align: right;\">7</td><td style = \"text-align: left;\">CSM_7</td><td style = \"text-align: right;\">210</td><td style = \"text-align: right;\">50</td><td style = \"text-align: right;\">70</td><td style = \"text-align: right;\">55.0</td></tr><tr><td class = \"rowNumber\" style = \"font-weight: bold; text-align: right;\">8</td><td style = \"text-align: left;\">CSM_8</td><td style = \"text-align: right;\">200</td><td style = \"text-align: right;\">30</td><td style = \"text-align: right;\">50</td><td style = \"text-align: right;\">36.6667</td></tr><tr><td class = \"rowNumber\" style = \"font-weight: bold; text-align: right;\">9</td><td style = \"text-align: left;\">CSM_9</td><td style = \"text-align: right;\">100</td><td style = \"text-align: right;\">45</td><td style = \"text-align: right;\">50</td><td style = \"text-align: right;\">128.333</td></tr><tr><td class = \"rowNumber\" style = \"font-weight: bold; text-align: right;\">10</td><td style = \"text-align: left;\">CSM_10</td><td style = \"text-align: right;\">45</td><td style = \"text-align: right;\">100</td><td style = \"text-align: right;\">92</td><td style = \"text-align: right;\">73.3333</td></tr><tr><td class = \"rowNumber\" style = \"font-weight: bold; text-align: right;\">11</td><td style = \"text-align: left;\">CSM_11</td><td style = \"text-align: right;\">150</td><td style = \"text-align: right;\">90</td><td style = \"text-align: right;\">60</td><td style = \"text-align: right;\">73.3333</td></tr><tr><td class = \"rowNumber\" style = \"font-weight: bold; text-align: right;\">12</td><td style = \"text-align: left;\">CSM_12</td><td style = \"text-align: right;\">90</td><td style = \"text-align: right;\">102</td><td style = \"text-align: right;\">54</td><td style = \"text-align: right;\">165.0</td></tr><tr><td class = \"rowNumber\" style = \"font-weight: bold; text-align: right;\">13</td><td style = \"text-align: left;\">CSM_13</td><td style = \"text-align: right;\">140</td><td style = \"text-align: right;\">87</td><td style = \"text-align: right;\">89</td><td style = \"text-align: right;\">18.3333</td></tr></tbody></table></div>"
      ],
      "text/latex": [
       "\\begin{tabular}{r|ccccc}\n",
       "\t& ship & x & y & z & d\\\\\n",
       "\t\\hline\n",
       "\t& String7 & Int64 & Int64 & Int64 & Float64\\\\\n",
       "\t\\hline\n",
       "\t1 & CSM\\_1 & 200 & 150 & 150 & 73.3333 \\\\\n",
       "\t2 & CSM\\_2 & 210 & 130 & 140 & 165.0 \\\\\n",
       "\t3 & CSM\\_3 & 205 & 120 & 135 & 128.333 \\\\\n",
       "\t4 & CSM\\_4 & 205 & 130 & 135 & 146.667 \\\\\n",
       "\t5 & CSM\\_5 & 205 & 50 & 50 & 128.333 \\\\\n",
       "\t6 & CSM\\_6 & 205 & 65 & 50 & 128.333 \\\\\n",
       "\t7 & CSM\\_7 & 210 & 50 & 70 & 55.0 \\\\\n",
       "\t8 & CSM\\_8 & 200 & 30 & 50 & 36.6667 \\\\\n",
       "\t9 & CSM\\_9 & 100 & 45 & 50 & 128.333 \\\\\n",
       "\t10 & CSM\\_10 & 45 & 100 & 92 & 73.3333 \\\\\n",
       "\t11 & CSM\\_11 & 150 & 90 & 60 & 73.3333 \\\\\n",
       "\t12 & CSM\\_12 & 90 & 102 & 54 & 165.0 \\\\\n",
       "\t13 & CSM\\_13 & 140 & 87 & 89 & 18.3333 \\\\\n",
       "\\end{tabular}\n"
      ],
      "text/plain": [
       "\u001b[1m13×5 DataFrame\u001b[0m\n",
       "\u001b[1m Row \u001b[0m│\u001b[1m ship    \u001b[0m\u001b[1m x     \u001b[0m\u001b[1m y     \u001b[0m\u001b[1m z     \u001b[0m\u001b[1m d        \u001b[0m\n",
       "     │\u001b[90m String7 \u001b[0m\u001b[90m Int64 \u001b[0m\u001b[90m Int64 \u001b[0m\u001b[90m Int64 \u001b[0m\u001b[90m Float64  \u001b[0m\n",
       "─────┼────────────────────────────────────────\n",
       "   1 │ CSM_1      200    150    150   73.3333\n",
       "   2 │ CSM_2      210    130    140  165.0\n",
       "   3 │ CSM_3      205    120    135  128.333\n",
       "   4 │ CSM_4      205    130    135  146.667\n",
       "   5 │ CSM_5      205     50     50  128.333\n",
       "   6 │ CSM_6      205     65     50  128.333\n",
       "   7 │ CSM_7      210     50     70   55.0\n",
       "   8 │ CSM_8      200     30     50   36.6667\n",
       "   9 │ CSM_9      100     45     50  128.333\n",
       "  10 │ CSM_10      45    100     92   73.3333\n",
       "  11 │ CSM_11     150     90     60   73.3333\n",
       "  12 │ CSM_12      90    102     54  165.0\n",
       "  13 │ CSM_13     140     87     89   18.3333"
      ]
     },
     "metadata": {},
     "output_type": "display_data"
    }
   ],
   "source": [
    "df4d = DataFrame(csv4d, [:ship, :x, :y, :z, :d])\n",
    "# масштабирование колонки, чтобы она несла одинаковую нагрузку, как и остальные колонки\n",
    "df4d[!, :d] = df4d.d / 12 * 220\n",
    "df4d"
   ]
  },
  {
   "cell_type": "markdown",
   "metadata": {},
   "source": [
    "Перевод датафреймов в массив, с которым будем работать"
   ]
  },
  {
   "cell_type": "code",
   "execution_count": 5,
   "metadata": {},
   "outputs": [
    {
     "data": {
      "text/plain": [
       "10×3 Matrix{Int64}:\n",
       " 200  150  150\n",
       " 210  130  140\n",
       " 205  120  135\n",
       " 205  130  135\n",
       " 205   50   50\n",
       " 205   65   50\n",
       " 210   50   70\n",
       " 200   30   50\n",
       " 100   45   50\n",
       "  45  100   92"
      ]
     },
     "metadata": {},
     "output_type": "display_data"
    }
   ],
   "source": [
    "coords = Matrix(df[:, 2:end])"
   ]
  },
  {
   "cell_type": "code",
   "execution_count": 6,
   "metadata": {},
   "outputs": [
    {
     "data": {
      "text/plain": [
       "13×4 Matrix{Float64}:\n",
       " 200.0  150.0  150.0   73.3333\n",
       " 210.0  130.0  140.0  165.0\n",
       " 205.0  120.0  135.0  128.333\n",
       " 205.0  130.0  135.0  146.667\n",
       " 205.0   50.0   50.0  128.333\n",
       " 205.0   65.0   50.0  128.333\n",
       " 210.0   50.0   70.0   55.0\n",
       " 200.0   30.0   50.0   36.6667\n",
       " 100.0   45.0   50.0  128.333\n",
       "  45.0  100.0   92.0   73.3333\n",
       " 150.0   90.0   60.0   73.3333\n",
       "  90.0  102.0   54.0  165.0\n",
       " 140.0   87.0   89.0   18.3333"
      ]
     },
     "metadata": {},
     "output_type": "display_data"
    }
   ],
   "source": [
    "coords4d = Matrix(df4d[:, 2:end])"
   ]
  },
  {
   "cell_type": "markdown",
   "metadata": {},
   "source": [
    "Алгоритм кластеризации:\n",
    "1. Начинаем со случайной точки. Она в кластере 1.\n",
    "2. Находим у текущего кластера центроиду.\n",
    "3. Находим ближайшую свободную точку к центроиде.\n",
    "4. Находим новую центроиду после добавления новой точки к кластеру.\n",
    "   1. Если новая точка дальше, чем наш порог (радиус поражения) или кластер с новой центроидой теряет старые точки, то увеличиваем id кластера и переходим к шагу 2.\n",
    "   2. Иначе добавляем точку в текущий кластер и переходим к шагу 2."
   ]
  },
  {
   "cell_type": "markdown",
   "metadata": {},
   "source": [
    "Пример одной жадной кластеризации"
   ]
  },
  {
   "cell_type": "code",
   "execution_count": 7,
   "metadata": {},
   "outputs": [
    {
     "data": {
      "text/plain": [
       "Dict{Int64, Vector{Int64}} with 7 entries:\n",
       "  5 => [10]\n",
       "  4 => [7]\n",
       "  6 => [8]\n",
       "  7 => [9]\n",
       "  2 => [3, 4, 2]\n",
       "  3 => [1]\n",
       "  1 => [5, 6]"
      ]
     },
     "metadata": {},
     "output_type": "display_data"
    }
   ],
   "source": [
    "clusters = find_clusters_greedy(coords, 20)"
   ]
  },
  {
   "cell_type": "markdown",
   "metadata": {},
   "source": [
    "Поиск лучшей кластеризации через симуляцию нескольких экспериментов. Вывод отсортирован по пользе кластеров."
   ]
  },
  {
   "cell_type": "code",
   "execution_count": 8,
   "metadata": {},
   "outputs": [
    {
     "data": {
      "text/plain": [
       "7-element Vector{Vector{Int64}}:\n",
       " [3, 4, 2]\n",
       " [6, 5]\n",
       " [7]\n",
       " [10]\n",
       " [9]\n",
       " [1]\n",
       " [8]"
      ]
     },
     "metadata": {},
     "output_type": "display_data"
    }
   ],
   "source": [
    "find_clusters(coords, 20)"
   ]
  },
  {
   "cell_type": "markdown",
   "metadata": {},
   "source": [
    "## Plots"
   ]
  },
  {
   "cell_type": "markdown",
   "metadata": {},
   "source": [
    "Получение результата в датафрейме, где указаны координаты центроид лучших кластеров, и какие корабли будут затронуты"
   ]
  },
  {
   "cell_type": "code",
   "execution_count": 9,
   "metadata": {},
   "outputs": [
    {
     "data": {
      "text/html": [
       "<div><div style = \"float: left;\"><span>2×4 DataFrame</span></div><div style = \"clear: both;\"></div></div><div class = \"data-frame\" style = \"overflow-x: scroll;\"><table class = \"data-frame\" style = \"margin-bottom: 6px;\"><thead><tr class = \"header\"><th class = \"rowNumber\" style = \"font-weight: bold; text-align: right;\">Row</th><th style = \"text-align: left;\">x</th><th style = \"text-align: left;\">y</th><th style = \"text-align: left;\">z</th><th style = \"text-align: left;\">targeted</th></tr><tr class = \"subheader headerLastRow\"><th class = \"rowNumber\" style = \"font-weight: bold; text-align: right;\"></th><th title = \"Float64\" style = \"text-align: left;\">Float64</th><th title = \"Float64\" style = \"text-align: left;\">Float64</th><th title = \"Float64\" style = \"text-align: left;\">Float64</th><th title = \"Vector{Int64}\" style = \"text-align: left;\">Array…</th></tr></thead><tbody><tr><td class = \"rowNumber\" style = \"font-weight: bold; text-align: right;\">1</td><td style = \"text-align: right;\">206.667</td><td style = \"text-align: right;\">126.667</td><td style = \"text-align: right;\">136.667</td><td style = \"text-align: left;\">[3, 4, 2]</td></tr><tr><td class = \"rowNumber\" style = \"font-weight: bold; text-align: right;\">2</td><td style = \"text-align: right;\">205.0</td><td style = \"text-align: right;\">57.5</td><td style = \"text-align: right;\">50.0</td><td style = \"text-align: left;\">[6, 5]</td></tr></tbody></table></div>"
      ],
      "text/latex": [
       "\\begin{tabular}{r|cccc}\n",
       "\t& x & y & z & targeted\\\\\n",
       "\t\\hline\n",
       "\t& Float64 & Float64 & Float64 & Array…\\\\\n",
       "\t\\hline\n",
       "\t1 & 206.667 & 126.667 & 136.667 & [3, 4, 2] \\\\\n",
       "\t2 & 205.0 & 57.5 & 50.0 & [6, 5] \\\\\n",
       "\\end{tabular}\n"
      ],
      "text/plain": [
       "\u001b[1m2×4 DataFrame\u001b[0m\n",
       "\u001b[1m Row \u001b[0m│\u001b[1m x       \u001b[0m\u001b[1m y       \u001b[0m\u001b[1m z       \u001b[0m\u001b[1m targeted  \u001b[0m\n",
       "     │\u001b[90m Float64 \u001b[0m\u001b[90m Float64 \u001b[0m\u001b[90m Float64 \u001b[0m\u001b[90m Array…    \u001b[0m\n",
       "─────┼──────────────────────────────────────\n",
       "   1 │ 206.667  126.667  136.667  [3, 4, 2]\n",
       "   2 │ 205.0     57.5     50.0    [6, 5]"
      ]
     },
     "metadata": {},
     "output_type": "display_data"
    }
   ],
   "source": [
    "clusters_constrained = get_clusters_with_constraints(coords)\n",
    "centers_targets = DataFrame(get_targets(coords, clusters_constrained), [:x, :y, :z])\n",
    "centers_targets[!, :targeted] = clusters_constrained\n",
    "centers_targets"
   ]
  },
  {
   "cell_type": "code",
   "execution_count": 10,
   "metadata": {},
   "outputs": [
    {
     "data": {
      "text/plain": [
       "plot_clustering_3d (generic function with 1 method)"
      ]
     },
     "metadata": {},
     "output_type": "display_data"
    }
   ],
   "source": [
    "function plot_clustering_3d(radius_damage)\n",
    "    clusters_constrained = get_clusters_with_constraints(coords, radius_damage=radius_damage)\n",
    "    centers_targets = DataFrame(get_targets(coords, clusters_constrained), [:x, :y, :z])\n",
    "    centers_targets[!, :targeted] = clusters_constrained\n",
    "\n",
    "    targeted = Set(reduce(vcat, clusters_constrained))\n",
    "    color_targeted = [i in targeted ? \"red\" : \"blue\" for i in 1:size(df)[1]]\n",
    "    df[!, :color_targeted] = color_targeted\n",
    "    trace_dots = scatter3d(\n",
    "        df,\n",
    "        x=:x,\n",
    "        y=:y,\n",
    "        z=:z,\n",
    "        text=:ship,\n",
    "        mode=\"markers\",\n",
    "        marker=attr(\n",
    "            size=:5,\n",
    "            color=:color_targeted,\n",
    "            sizemode=\"diameter\"\n",
    "        ),\n",
    "        showlegend=false,\n",
    "    )\n",
    "    trace_bubble = scatter3d(\n",
    "        centers_targets,\n",
    "        x=:x,\n",
    "        y=:y,\n",
    "        z=:z,\n",
    "        mode=\"markers\",\n",
    "        marker=attr(\n",
    "            size=radius_damage * 2,\n",
    "            color=\"red\",\n",
    "            sizemode=\"diameter\",\n",
    "            opacity=0.3,\n",
    "        ),\n",
    "        showlegend=false,\n",
    "    )\n",
    "\n",
    "    layout = Layout(scene_zaxis_type=\"log\", title=\"Лучшие цели. Radius=$radius_damage\")\n",
    "    plot([trace_dots, trace_bubble], layout)\n",
    "end"
   ]
  },
  {
   "cell_type": "code",
   "execution_count": 11,
   "metadata": {},
   "outputs": [],
   "source": [
    "# plot_clustering_3d(10) # для интерактивного графика"
   ]
  },
  {
   "cell_type": "markdown",
   "metadata": {},
   "source": [
    "Почему-то здесь julia любит зависать, поэтому закомментировал."
   ]
  },
  {
   "cell_type": "code",
   "execution_count": 12,
   "metadata": {},
   "outputs": [],
   "source": [
    "# for radius in [1, 10, 20, 50, 100]\n",
    "#     plot_targets = plot_clustering_3d(radius)\n",
    "#     savefig(plot_targets, \"imgs/targets_3d_$radius.png\", height=500, width=800, scale=2)\n",
    "# end"
   ]
  },
  {
   "cell_type": "markdown",
   "metadata": {},
   "source": [
    "## 4D"
   ]
  },
  {
   "cell_type": "markdown",
   "metadata": {},
   "source": [
    "Работа с 4 измерениями абсолютно аналогичная. Берем во внимание, что у 4 измерения была меньшая размерность.  \n",
    " Мы её вытянули как у первых трех измерений, потом обратно сжали. Так мы работали с измерениями, которые вносят равный вклад в кластеризацию, даже если у них разная размерность."
   ]
  },
  {
   "cell_type": "markdown",
   "metadata": {},
   "source": [
    "Нарисовать уже не получится"
   ]
  },
  {
   "cell_type": "code",
   "execution_count": 13,
   "metadata": {},
   "outputs": [
    {
     "data": {
      "text/html": [
       "<div><div style = \"float: left;\"><span>2×5 DataFrame</span></div><div style = \"clear: both;\"></div></div><div class = \"data-frame\" style = \"overflow-x: scroll;\"><table class = \"data-frame\" style = \"margin-bottom: 6px;\"><thead><tr class = \"header\"><th class = \"rowNumber\" style = \"font-weight: bold; text-align: right;\">Row</th><th style = \"text-align: left;\">x</th><th style = \"text-align: left;\">y</th><th style = \"text-align: left;\">z</th><th style = \"text-align: left;\">d</th><th style = \"text-align: left;\">targeted</th></tr><tr class = \"subheader headerLastRow\"><th class = \"rowNumber\" style = \"font-weight: bold; text-align: right;\"></th><th title = \"Float64\" style = \"text-align: left;\">Float64</th><th title = \"Float64\" style = \"text-align: left;\">Float64</th><th title = \"Float64\" style = \"text-align: left;\">Float64</th><th title = \"Float64\" style = \"text-align: left;\">Float64</th><th title = \"Vector{Int64}\" style = \"text-align: left;\">Array…</th></tr></thead><tbody><tr><td class = \"rowNumber\" style = \"font-weight: bold; text-align: right;\">1</td><td style = \"text-align: right;\">206.667</td><td style = \"text-align: right;\">126.667</td><td style = \"text-align: right;\">136.667</td><td style = \"text-align: right;\">8.0</td><td style = \"text-align: left;\">[3, 4, 2]</td></tr><tr><td class = \"rowNumber\" style = \"font-weight: bold; text-align: right;\">2</td><td style = \"text-align: right;\">205.0</td><td style = \"text-align: right;\">57.5</td><td style = \"text-align: right;\">50.0</td><td style = \"text-align: right;\">7.0</td><td style = \"text-align: left;\">[5, 6]</td></tr></tbody></table></div>"
      ],
      "text/latex": [
       "\\begin{tabular}{r|ccccc}\n",
       "\t& x & y & z & d & targeted\\\\\n",
       "\t\\hline\n",
       "\t& Float64 & Float64 & Float64 & Float64 & Array…\\\\\n",
       "\t\\hline\n",
       "\t1 & 206.667 & 126.667 & 136.667 & 8.0 & [3, 4, 2] \\\\\n",
       "\t2 & 205.0 & 57.5 & 50.0 & 7.0 & [5, 6] \\\\\n",
       "\\end{tabular}\n"
      ],
      "text/plain": [
       "\u001b[1m2×5 DataFrame\u001b[0m\n",
       "\u001b[1m Row \u001b[0m│\u001b[1m x       \u001b[0m\u001b[1m y       \u001b[0m\u001b[1m z       \u001b[0m\u001b[1m d       \u001b[0m\u001b[1m targeted  \u001b[0m\n",
       "     │\u001b[90m Float64 \u001b[0m\u001b[90m Float64 \u001b[0m\u001b[90m Float64 \u001b[0m\u001b[90m Float64 \u001b[0m\u001b[90m Array…    \u001b[0m\n",
       "─────┼───────────────────────────────────────────────\n",
       "   1 │ 206.667  126.667  136.667      8.0  [3, 4, 2]\n",
       "   2 │ 205.0     57.5     50.0        7.0  [5, 6]"
      ]
     },
     "metadata": {},
     "output_type": "display_data"
    }
   ],
   "source": [
    "clusters_constrained = get_clusters_with_constraints(coords4d, radius_damage=50)\n",
    "centers_targets = DataFrame(get_targets(coords4d, clusters_constrained), [:x, :y, :z, :d])\n",
    "centers_targets[!, :targeted] = clusters_constrained\n",
    "# восстановим значение в прежний масштаб\n",
    "centers_targets[!, :d] = centers_targets.d / 220 * 12\n",
    "centers_targets"
   ]
  },
  {
   "cell_type": "markdown",
   "metadata": {},
   "source": [
    "## Зависимость качества от радиуса"
   ]
  },
  {
   "cell_type": "markdown",
   "metadata": {},
   "source": [
    "Мы фиксируем максимальное кол-во целей - 2 и варируем радиус действия."
   ]
  },
  {
   "cell_type": "markdown",
   "metadata": {},
   "source": [
    "Оценка - кол-во вражеских кораблей, которые можно поразить в один момент с указанным или большим радиусом."
   ]
  },
  {
   "cell_type": "code",
   "execution_count": 14,
   "metadata": {},
   "outputs": [
    {
     "name": "stdout",
     "output_type": "stream",
     "text": [
      "radius: 1, best score: 2\n",
      "radius: 15, best score: 3\n",
      "radius: 20, best score: 4\n",
      "radius: 29, best score: 5\n"
     ]
    },
    {
     "name": "stdout",
     "output_type": "stream",
     "text": [
      "radius: 65, best score: 6\n",
      "radius: 77, best score: 9\n",
      "radius: 90, best score: 10\n",
      "radius: 104, best score: 11\n",
      "radius: 110, best score: 12\n",
      "radius: 113, best score: 13\n"
     ]
    }
   ],
   "source": [
    "best_score = 0\n",
    "for radius in 1:1:300\n",
    "    l = Dict([Pair(num, i) for (num, i) in enumerate(get_clusters_with_constraints(coords4d; radius_damage=radius))])\n",
    "    score = score_clustering(coords4d, l, 2)[1]\n",
    "    if score > best_score\n",
    "        best_score = score\n",
    "        println(\"radius: $radius, best score: $best_score\")\n",
    "    end\n",
    "end"
   ]
  }
 ],
 "metadata": {
  "kernelspec": {
   "display_name": "Julia 1.10.0",
   "language": "julia",
   "name": "julia-1.10"
  },
  "language_info": {
   "file_extension": ".jl",
   "mimetype": "application/julia",
   "name": "julia",
   "version": "1.10.0"
  }
 },
 "nbformat": 4,
 "nbformat_minor": 2
}

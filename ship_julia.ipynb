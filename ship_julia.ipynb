{
 "cells": [
  {
   "cell_type": "code",
   "execution_count": 1,
   "metadata": {},
   "outputs": [],
   "source": [
    "using CSV\n",
    "using DataFrames\n",
    "using Statistics\n",
    "using Random"
   ]
  },
  {
   "cell_type": "code",
   "execution_count": 2,
   "metadata": {},
   "outputs": [],
   "source": [
    "csv = CSV.File(joinpath(\"data\", \"Ship game.csv\"); header=1, skipto=4, delim=\";\", select=1:4);"
   ]
  },
  {
   "cell_type": "code",
   "execution_count": 3,
   "metadata": {},
   "outputs": [],
   "source": [
    "const RADIUS_DAMAGE = 10\n",
    "const NUM_TARGETS = 2\n",
    "const N_ROLLS = 10;"
   ]
  },
  {
   "cell_type": "code",
   "execution_count": 4,
   "metadata": {},
   "outputs": [
    {
     "data": {
      "text/html": [
       "<div><div style = \"float: left;\"><span>10×4 DataFrame</span></div><div style = \"clear: both;\"></div></div><div class = \"data-frame\" style = \"overflow-x: scroll;\"><table class = \"data-frame\" style = \"margin-bottom: 6px;\"><thead><tr class = \"header\"><th class = \"rowNumber\" style = \"font-weight: bold; text-align: right;\">Row</th><th style = \"text-align: left;\">ship</th><th style = \"text-align: left;\">x</th><th style = \"text-align: left;\">y</th><th style = \"text-align: left;\">z</th></tr><tr class = \"subheader headerLastRow\"><th class = \"rowNumber\" style = \"font-weight: bold; text-align: right;\"></th><th title = \"String7\" style = \"text-align: left;\">String7</th><th title = \"Int64\" style = \"text-align: left;\">Int64</th><th title = \"Int64\" style = \"text-align: left;\">Int64</th><th title = \"Int64\" style = \"text-align: left;\">Int64</th></tr></thead><tbody><tr><td class = \"rowNumber\" style = \"font-weight: bold; text-align: right;\">1</td><td style = \"text-align: left;\">CSM_1</td><td style = \"text-align: right;\">200</td><td style = \"text-align: right;\">150</td><td style = \"text-align: right;\">150</td></tr><tr><td class = \"rowNumber\" style = \"font-weight: bold; text-align: right;\">2</td><td style = \"text-align: left;\">CSM_2</td><td style = \"text-align: right;\">210</td><td style = \"text-align: right;\">130</td><td style = \"text-align: right;\">140</td></tr><tr><td class = \"rowNumber\" style = \"font-weight: bold; text-align: right;\">3</td><td style = \"text-align: left;\">CSM_3</td><td style = \"text-align: right;\">205</td><td style = \"text-align: right;\">120</td><td style = \"text-align: right;\">135</td></tr><tr><td class = \"rowNumber\" style = \"font-weight: bold; text-align: right;\">4</td><td style = \"text-align: left;\">CSM_4</td><td style = \"text-align: right;\">205</td><td style = \"text-align: right;\">130</td><td style = \"text-align: right;\">135</td></tr><tr><td class = \"rowNumber\" style = \"font-weight: bold; text-align: right;\">5</td><td style = \"text-align: left;\">CSM_5</td><td style = \"text-align: right;\">205</td><td style = \"text-align: right;\">50</td><td style = \"text-align: right;\">50</td></tr><tr><td class = \"rowNumber\" style = \"font-weight: bold; text-align: right;\">6</td><td style = \"text-align: left;\">CSM_6</td><td style = \"text-align: right;\">205</td><td style = \"text-align: right;\">65</td><td style = \"text-align: right;\">50</td></tr><tr><td class = \"rowNumber\" style = \"font-weight: bold; text-align: right;\">7</td><td style = \"text-align: left;\">CSM_7</td><td style = \"text-align: right;\">210</td><td style = \"text-align: right;\">50</td><td style = \"text-align: right;\">70</td></tr><tr><td class = \"rowNumber\" style = \"font-weight: bold; text-align: right;\">8</td><td style = \"text-align: left;\">CSM_8</td><td style = \"text-align: right;\">200</td><td style = \"text-align: right;\">30</td><td style = \"text-align: right;\">50</td></tr><tr><td class = \"rowNumber\" style = \"font-weight: bold; text-align: right;\">9</td><td style = \"text-align: left;\">CSM_9</td><td style = \"text-align: right;\">100</td><td style = \"text-align: right;\">45</td><td style = \"text-align: right;\">50</td></tr><tr><td class = \"rowNumber\" style = \"font-weight: bold; text-align: right;\">10</td><td style = \"text-align: left;\">CSM_10</td><td style = \"text-align: right;\">45</td><td style = \"text-align: right;\">100</td><td style = \"text-align: right;\">92</td></tr></tbody></table></div>"
      ],
      "text/latex": [
       "\\begin{tabular}{r|cccc}\n",
       "\t& ship & x & y & z\\\\\n",
       "\t\\hline\n",
       "\t& String7 & Int64 & Int64 & Int64\\\\\n",
       "\t\\hline\n",
       "\t1 & CSM\\_1 & 200 & 150 & 150 \\\\\n",
       "\t2 & CSM\\_2 & 210 & 130 & 140 \\\\\n",
       "\t3 & CSM\\_3 & 205 & 120 & 135 \\\\\n",
       "\t4 & CSM\\_4 & 205 & 130 & 135 \\\\\n",
       "\t5 & CSM\\_5 & 205 & 50 & 50 \\\\\n",
       "\t6 & CSM\\_6 & 205 & 65 & 50 \\\\\n",
       "\t7 & CSM\\_7 & 210 & 50 & 70 \\\\\n",
       "\t8 & CSM\\_8 & 200 & 30 & 50 \\\\\n",
       "\t9 & CSM\\_9 & 100 & 45 & 50 \\\\\n",
       "\t10 & CSM\\_10 & 45 & 100 & 92 \\\\\n",
       "\\end{tabular}\n"
      ],
      "text/plain": [
       "\u001b[1m10×4 DataFrame\u001b[0m\n",
       "\u001b[1m Row \u001b[0m│\u001b[1m ship    \u001b[0m\u001b[1m x     \u001b[0m\u001b[1m y     \u001b[0m\u001b[1m z     \u001b[0m\n",
       "     │\u001b[90m String7 \u001b[0m\u001b[90m Int64 \u001b[0m\u001b[90m Int64 \u001b[0m\u001b[90m Int64 \u001b[0m\n",
       "─────┼──────────────────────────────\n",
       "   1 │ CSM_1      200    150    150\n",
       "   2 │ CSM_2      210    130    140\n",
       "   3 │ CSM_3      205    120    135\n",
       "   4 │ CSM_4      205    130    135\n",
       "   5 │ CSM_5      205     50     50\n",
       "   6 │ CSM_6      205     65     50\n",
       "   7 │ CSM_7      210     50     70\n",
       "   8 │ CSM_8      200     30     50\n",
       "   9 │ CSM_9      100     45     50\n",
       "  10 │ CSM_10      45    100     92"
      ]
     },
     "metadata": {},
     "output_type": "display_data"
    }
   ],
   "source": [
    "df = DataFrame(csv)\n",
    "df = rename(df, [\"ship\", \"x\", \"y\", \"z\"])"
   ]
  },
  {
   "cell_type": "code",
   "execution_count": 5,
   "metadata": {},
   "outputs": [
    {
     "data": {
      "text/plain": [
       "10×3 Matrix{Int64}:\n",
       " 200  150  150\n",
       " 210  130  140\n",
       " 205  120  135\n",
       " 205  130  135\n",
       " 205   50   50\n",
       " 205   65   50\n",
       " 210   50   70\n",
       " 200   30   50\n",
       " 100   45   50\n",
       "  45  100   92"
      ]
     },
     "metadata": {},
     "output_type": "display_data"
    }
   ],
   "source": [
    "coords = Matrix(df[:, 2:end])"
   ]
  },
  {
   "cell_type": "code",
   "execution_count": 6,
   "metadata": {},
   "outputs": [
    {
     "data": {
      "text/plain": [
       "distance_to_edges (generic function with 1 method)"
      ]
     },
     "metadata": {},
     "output_type": "display_data"
    }
   ],
   "source": [
    "function distance_to_edges(coords, edge_val)\n",
    "    diff_edge = coords .- edge_val\n",
    "    euclidean_dist = sqrt.(vec(sum(diff_edge .^ 2, dims=2)))\n",
    "    euclidean_dist\n",
    "end"
   ]
  },
  {
   "cell_type": "code",
   "execution_count": 7,
   "metadata": {},
   "outputs": [],
   "source": [
    "function closest_edge(coords, edge_val, indices)\n",
    "    closest_distance = Inf\n",
    "    closest_edge = 0\n",
    "    for i in indices\n",
    "        euclidean_dist = sqrt(sum((coords[i, :] .- edge_val) .^ 2))\n",
    "        # println(coords[i, :], \" \", edge_val, \" \", euclidean_dist)\n",
    "        if euclidean_dist < closest_distance\n",
    "            # println(closest_distance, ' ', euclidean_dist)\n",
    "            closest_distance = euclidean_dist\n",
    "            closest_edge = i\n",
    "        end\n",
    "    end\n",
    "    if closest_edge == 0\n",
    "        error(\"no available indices\")\n",
    "    end\n",
    "    closest_edge, closest_distance\n",
    "end\n",
    "\n",
    "function closest_edge(coords, edge)\n",
    "    euclidean_dist = distance_to_edges(coords, edge)\n",
    "    euclidean_dist[edge] = Inf\n",
    "    argmin(euclidean_dist)\n",
    "end\n",
    ";"
   ]
  },
  {
   "cell_type": "code",
   "execution_count": 8,
   "metadata": {},
   "outputs": [
    {
     "data": {
      "text/plain": [
       "10×3 Matrix{Int64}:\n",
       " 200  150  150\n",
       " 210  130  140\n",
       " 205  120  135\n",
       " 205  130  135\n",
       " 205   50   50\n",
       " 205   65   50\n",
       " 210   50   70\n",
       " 200   30   50\n",
       " 100   45   50\n",
       "  45  100   92"
      ]
     },
     "metadata": {},
     "output_type": "display_data"
    }
   ],
   "source": [
    "coords"
   ]
  },
  {
   "cell_type": "code",
   "execution_count": 9,
   "metadata": {},
   "outputs": [
    {
     "data": {
      "text/plain": [
       "find_centroid (generic function with 1 method)"
      ]
     },
     "metadata": {},
     "output_type": "display_data"
    }
   ],
   "source": [
    "function find_centroid(coords::Array{Int64,2})\n",
    "    mean(coords, dims=1)\n",
    "end"
   ]
  },
  {
   "cell_type": "code",
   "execution_count": 10,
   "metadata": {},
   "outputs": [
    {
     "data": {
      "text/plain": [
       "pop_rand! (generic function with 1 method)"
      ]
     },
     "metadata": {},
     "output_type": "display_data"
    }
   ],
   "source": [
    "function pop_rand!(s::Set)\n",
    "    pop!(s, rand(s))\n",
    "end"
   ]
  },
  {
   "cell_type": "markdown",
   "metadata": {},
   "source": [
    "## Score best clustering"
   ]
  },
  {
   "cell_type": "code",
   "execution_count": 11,
   "metadata": {},
   "outputs": [
    {
     "data": {
      "text/plain": [
       "score_cluster (generic function with 1 method)"
      ]
     },
     "metadata": {},
     "output_type": "display_data"
    }
   ],
   "source": [
    "function score_cluster(coords, cluster)\n",
    "    \"First is number of member, second - mean distance to members from the center\"\n",
    "    center = find_centroid(coords[cluster, :])\n",
    "    distances_to_members = distance_to_edges(coords[cluster, :], center)\n",
    "    length(cluster), -sum(distances_to_members)\n",
    "end"
   ]
  },
  {
   "cell_type": "code",
   "execution_count": 12,
   "metadata": {},
   "outputs": [
    {
     "data": {
      "text/plain": [
       "sort_clusters (generic function with 1 method)"
      ]
     },
     "metadata": {},
     "output_type": "display_data"
    }
   ],
   "source": [
    "function sort_clusters(clusters)\n",
    "    sorted_dict = sort(collect(clusters), by=x -> score_cluster(coords, x[2]), rev=true)\n",
    "    return [v for (n, (k, v)) in enumerate(sorted_dict)]\n",
    "end"
   ]
  },
  {
   "cell_type": "code",
   "execution_count": 13,
   "metadata": {},
   "outputs": [
    {
     "data": {
      "text/plain": [
       "score_clustering (generic function with 1 method)"
      ]
     },
     "metadata": {},
     "output_type": "display_data"
    }
   ],
   "source": [
    "function score_clustering(coords, clusters)\n",
    "    best_clusters = sort_clusters(clusters)[begin:NUM_TARGETS]\n",
    "    scores_matrix = reduce(vcat, transpose.(map(x -> collect(score_cluster(coords, x)), best_clusters)))\n",
    "    Tuple(sum(scores_matrix, dims=1))\n",
    "end"
   ]
  },
  {
   "cell_type": "markdown",
   "metadata": {},
   "source": [
    "## Find clusters"
   ]
  },
  {
   "cell_type": "code",
   "execution_count": 14,
   "metadata": {},
   "outputs": [
    {
     "data": {
      "text/plain": [
       "find_clusters (generic function with 1 method)"
      ]
     },
     "metadata": {},
     "output_type": "display_data"
    }
   ],
   "source": [
    "function find_clusters_greedy(coords, threshold)\n",
    "    clusters = Dict{Int64,Vector{Int64}}()\n",
    "    available_edges = Set([1:size(coords)[1];])\n",
    "    current_cluster = 1\n",
    "    clusters[current_cluster] = [pop_rand!(available_edges)]\n",
    "    while !isempty(available_edges)\n",
    "        cluster_center = find_centroid(coords[clusters[current_cluster], :])\n",
    "        cl_edge_idx, cl_distance = closest_edge(coords, vec(cluster_center), available_edges)\n",
    "        to_be_cluster = coords[vcat(clusters[current_cluster], [cl_edge_idx]), :]\n",
    "\n",
    "        new_cluster_center = find_centroid(to_be_cluster)\n",
    "\n",
    "        all_distances = distance_to_edges(to_be_cluster, new_cluster_center)\n",
    "\n",
    "        if cl_distance > threshold || any(x -> x > threshold, all_distances)\n",
    "            current_cluster += 1\n",
    "            clusters[current_cluster] = [pop_rand!(available_edges)]\n",
    "        else\n",
    "            delete!(available_edges, cl_edge_idx)\n",
    "            push!(clusters[current_cluster], cl_edge_idx)\n",
    "        end\n",
    "    end\n",
    "    clusters\n",
    "end\n",
    "\n",
    "function find_clusters(coords, threshold)\n",
    "    best_clustering = Dict()\n",
    "    best_quality = (-Inf, -Inf)\n",
    "    for _ in 1:N_ROLLS\n",
    "        clusters = find_clusters_greedy(coords, threshold)\n",
    "        quality = score_clustering(coords, clusters)\n",
    "        # println(typeof(quality), quality, typeof(best_clustering), best_clustering)\n",
    "        if quality > best_quality\n",
    "            best_clustering = clusters\n",
    "            best_quality = quality\n",
    "        end\n",
    "    end\n",
    "    sort_clusters(best_clustering)\n",
    "end\n"
   ]
  },
  {
   "cell_type": "code",
   "execution_count": 15,
   "metadata": {},
   "outputs": [
    {
     "data": {
      "text/plain": [
       "Dict{Int64, Vector{Int64}} with 7 entries:\n",
       "  5 => [5, 6]\n",
       "  4 => [7]\n",
       "  6 => [9]\n",
       "  7 => [8]\n",
       "  2 => [4, 2, 3]\n",
       "  3 => [1]\n",
       "  1 => [10]"
      ]
     },
     "metadata": {},
     "output_type": "display_data"
    }
   ],
   "source": [
    "clusters = find_clusters_greedy(coords, 20)"
   ]
  },
  {
   "cell_type": "code",
   "execution_count": 16,
   "metadata": {},
   "outputs": [
    {
     "data": {
      "text/plain": [
       "7-element Vector{Vector{Int64}}:\n",
       " [3, 4, 2]\n",
       " [6, 5]\n",
       " [1]\n",
       " [10]\n",
       " [8]\n",
       " [9]\n",
       " [7]"
      ]
     },
     "metadata": {},
     "output_type": "display_data"
    }
   ],
   "source": [
    "find_clusters(coords, 20)"
   ]
  },
  {
   "cell_type": "markdown",
   "metadata": {},
   "source": [
    "## Plots"
   ]
  },
  {
   "cell_type": "code",
   "execution_count": 17,
   "metadata": {},
   "outputs": [],
   "source": []
  }
 ],
 "metadata": {
  "kernelspec": {
   "display_name": "Julia 1.10.0",
   "language": "julia",
   "name": "julia-1.10"
  },
  "language_info": {
   "file_extension": ".jl",
   "mimetype": "application/julia",
   "name": "julia",
   "version": "1.10.0"
  }
 },
 "nbformat": 4,
 "nbformat_minor": 2
}

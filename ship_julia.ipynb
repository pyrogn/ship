{
 "cells": [
  {
   "cell_type": "code",
   "execution_count": 1,
   "metadata": {},
   "outputs": [],
   "source": [
    "using CSV\n",
    "using DataFrames\n",
    "using Statistics\n",
    "using Random\n",
    "# using Plots\n",
    "using PlotlyJS"
   ]
  },
  {
   "cell_type": "code",
   "execution_count": 2,
   "metadata": {},
   "outputs": [],
   "source": [
    "csv = CSV.File(joinpath(\"data\", \"Ship game.csv\"); header=1, skipto=4, delim=\";\", select=1:4);"
   ]
  },
  {
   "cell_type": "code",
   "execution_count": 3,
   "metadata": {},
   "outputs": [],
   "source": [
    "const RADIUS_DAMAGE = 10\n",
    "const NUM_TARGETS = 2\n",
    "const N_ROLLS = 10;"
   ]
  },
  {
   "cell_type": "code",
   "execution_count": 4,
   "metadata": {},
   "outputs": [
    {
     "data": {
      "text/html": [
       "<div><div style = \"float: left;\"><span>10×4 DataFrame</span></div><div style = \"clear: both;\"></div></div><div class = \"data-frame\" style = \"overflow-x: scroll;\"><table class = \"data-frame\" style = \"margin-bottom: 6px;\"><thead><tr class = \"header\"><th class = \"rowNumber\" style = \"font-weight: bold; text-align: right;\">Row</th><th style = \"text-align: left;\">ship</th><th style = \"text-align: left;\">x</th><th style = \"text-align: left;\">y</th><th style = \"text-align: left;\">z</th></tr><tr class = \"subheader headerLastRow\"><th class = \"rowNumber\" style = \"font-weight: bold; text-align: right;\"></th><th title = \"String7\" style = \"text-align: left;\">String7</th><th title = \"Int64\" style = \"text-align: left;\">Int64</th><th title = \"Int64\" style = \"text-align: left;\">Int64</th><th title = \"Int64\" style = \"text-align: left;\">Int64</th></tr></thead><tbody><tr><td class = \"rowNumber\" style = \"font-weight: bold; text-align: right;\">1</td><td style = \"text-align: left;\">CSM_1</td><td style = \"text-align: right;\">200</td><td style = \"text-align: right;\">150</td><td style = \"text-align: right;\">150</td></tr><tr><td class = \"rowNumber\" style = \"font-weight: bold; text-align: right;\">2</td><td style = \"text-align: left;\">CSM_2</td><td style = \"text-align: right;\">210</td><td style = \"text-align: right;\">130</td><td style = \"text-align: right;\">140</td></tr><tr><td class = \"rowNumber\" style = \"font-weight: bold; text-align: right;\">3</td><td style = \"text-align: left;\">CSM_3</td><td style = \"text-align: right;\">205</td><td style = \"text-align: right;\">120</td><td style = \"text-align: right;\">135</td></tr><tr><td class = \"rowNumber\" style = \"font-weight: bold; text-align: right;\">4</td><td style = \"text-align: left;\">CSM_4</td><td style = \"text-align: right;\">205</td><td style = \"text-align: right;\">130</td><td style = \"text-align: right;\">135</td></tr><tr><td class = \"rowNumber\" style = \"font-weight: bold; text-align: right;\">5</td><td style = \"text-align: left;\">CSM_5</td><td style = \"text-align: right;\">205</td><td style = \"text-align: right;\">50</td><td style = \"text-align: right;\">50</td></tr><tr><td class = \"rowNumber\" style = \"font-weight: bold; text-align: right;\">6</td><td style = \"text-align: left;\">CSM_6</td><td style = \"text-align: right;\">205</td><td style = \"text-align: right;\">65</td><td style = \"text-align: right;\">50</td></tr><tr><td class = \"rowNumber\" style = \"font-weight: bold; text-align: right;\">7</td><td style = \"text-align: left;\">CSM_7</td><td style = \"text-align: right;\">210</td><td style = \"text-align: right;\">50</td><td style = \"text-align: right;\">70</td></tr><tr><td class = \"rowNumber\" style = \"font-weight: bold; text-align: right;\">8</td><td style = \"text-align: left;\">CSM_8</td><td style = \"text-align: right;\">200</td><td style = \"text-align: right;\">30</td><td style = \"text-align: right;\">50</td></tr><tr><td class = \"rowNumber\" style = \"font-weight: bold; text-align: right;\">9</td><td style = \"text-align: left;\">CSM_9</td><td style = \"text-align: right;\">100</td><td style = \"text-align: right;\">45</td><td style = \"text-align: right;\">50</td></tr><tr><td class = \"rowNumber\" style = \"font-weight: bold; text-align: right;\">10</td><td style = \"text-align: left;\">CSM_10</td><td style = \"text-align: right;\">45</td><td style = \"text-align: right;\">100</td><td style = \"text-align: right;\">92</td></tr></tbody></table></div>"
      ],
      "text/latex": [
       "\\begin{tabular}{r|cccc}\n",
       "\t& ship & x & y & z\\\\\n",
       "\t\\hline\n",
       "\t& String7 & Int64 & Int64 & Int64\\\\\n",
       "\t\\hline\n",
       "\t1 & CSM\\_1 & 200 & 150 & 150 \\\\\n",
       "\t2 & CSM\\_2 & 210 & 130 & 140 \\\\\n",
       "\t3 & CSM\\_3 & 205 & 120 & 135 \\\\\n",
       "\t4 & CSM\\_4 & 205 & 130 & 135 \\\\\n",
       "\t5 & CSM\\_5 & 205 & 50 & 50 \\\\\n",
       "\t6 & CSM\\_6 & 205 & 65 & 50 \\\\\n",
       "\t7 & CSM\\_7 & 210 & 50 & 70 \\\\\n",
       "\t8 & CSM\\_8 & 200 & 30 & 50 \\\\\n",
       "\t9 & CSM\\_9 & 100 & 45 & 50 \\\\\n",
       "\t10 & CSM\\_10 & 45 & 100 & 92 \\\\\n",
       "\\end{tabular}\n"
      ],
      "text/plain": [
       "\u001b[1m10×4 DataFrame\u001b[0m\n",
       "\u001b[1m Row \u001b[0m│\u001b[1m ship    \u001b[0m\u001b[1m x     \u001b[0m\u001b[1m y     \u001b[0m\u001b[1m z     \u001b[0m\n",
       "     │\u001b[90m String7 \u001b[0m\u001b[90m Int64 \u001b[0m\u001b[90m Int64 \u001b[0m\u001b[90m Int64 \u001b[0m\n",
       "─────┼──────────────────────────────\n",
       "   1 │ CSM_1      200    150    150\n",
       "   2 │ CSM_2      210    130    140\n",
       "   3 │ CSM_3      205    120    135\n",
       "   4 │ CSM_4      205    130    135\n",
       "   5 │ CSM_5      205     50     50\n",
       "   6 │ CSM_6      205     65     50\n",
       "   7 │ CSM_7      210     50     70\n",
       "   8 │ CSM_8      200     30     50\n",
       "   9 │ CSM_9      100     45     50\n",
       "  10 │ CSM_10      45    100     92"
      ]
     },
     "metadata": {},
     "output_type": "display_data"
    }
   ],
   "source": [
    "df = DataFrame(csv)\n",
    "df = rename(df, [\"ship\", \"x\", \"y\", \"z\"])"
   ]
  },
  {
   "cell_type": "code",
   "execution_count": 5,
   "metadata": {},
   "outputs": [
    {
     "data": {
      "text/plain": [
       "10×3 Matrix{Int64}:\n",
       " 200  150  150\n",
       " 210  130  140\n",
       " 205  120  135\n",
       " 205  130  135\n",
       " 205   50   50\n",
       " 205   65   50\n",
       " 210   50   70\n",
       " 200   30   50\n",
       " 100   45   50\n",
       "  45  100   92"
      ]
     },
     "metadata": {},
     "output_type": "display_data"
    }
   ],
   "source": [
    "coords = Matrix(df[:, 2:end])"
   ]
  },
  {
   "cell_type": "code",
   "execution_count": 6,
   "metadata": {},
   "outputs": [
    {
     "data": {
      "text/plain": [
       "distance_to_edges (generic function with 1 method)"
      ]
     },
     "metadata": {},
     "output_type": "display_data"
    }
   ],
   "source": [
    "function distance_to_edges(coords, edge_val)\n",
    "    diff_edge = coords .- edge_val\n",
    "    euclidean_dist = sqrt.(vec(sum(diff_edge .^ 2, dims=2)))\n",
    "    euclidean_dist\n",
    "end"
   ]
  },
  {
   "cell_type": "code",
   "execution_count": 7,
   "metadata": {},
   "outputs": [],
   "source": [
    "function closest_edge(coords, edge_val, indices)\n",
    "    closest_distance = Inf\n",
    "    closest_edge = 0\n",
    "    for i in indices\n",
    "        euclidean_dist = sqrt(sum((coords[i, :] .- edge_val) .^ 2))\n",
    "        # println(coords[i, :], \" \", edge_val, \" \", euclidean_dist)\n",
    "        if euclidean_dist < closest_distance\n",
    "            # println(closest_distance, ' ', euclidean_dist)\n",
    "            closest_distance = euclidean_dist\n",
    "            closest_edge = i\n",
    "        end\n",
    "    end\n",
    "    if closest_edge == 0\n",
    "        error(\"no available indices\")\n",
    "    end\n",
    "    closest_edge, closest_distance\n",
    "end\n",
    "\n",
    "function closest_edge(coords, edge)\n",
    "    euclidean_dist = distance_to_edges(coords, edge)\n",
    "    euclidean_dist[edge] = Inf\n",
    "    argmin(euclidean_dist)\n",
    "end\n",
    ";"
   ]
  },
  {
   "cell_type": "code",
   "execution_count": 8,
   "metadata": {},
   "outputs": [
    {
     "data": {
      "text/plain": [
       "10×3 Matrix{Int64}:\n",
       " 200  150  150\n",
       " 210  130  140\n",
       " 205  120  135\n",
       " 205  130  135\n",
       " 205   50   50\n",
       " 205   65   50\n",
       " 210   50   70\n",
       " 200   30   50\n",
       " 100   45   50\n",
       "  45  100   92"
      ]
     },
     "metadata": {},
     "output_type": "display_data"
    }
   ],
   "source": [
    "coords"
   ]
  },
  {
   "cell_type": "code",
   "execution_count": 9,
   "metadata": {},
   "outputs": [
    {
     "data": {
      "text/plain": [
       "find_centroid (generic function with 1 method)"
      ]
     },
     "metadata": {},
     "output_type": "display_data"
    }
   ],
   "source": [
    "function find_centroid(coords::Array{Int64,2})\n",
    "    mean(coords, dims=1)\n",
    "end"
   ]
  },
  {
   "cell_type": "code",
   "execution_count": 10,
   "metadata": {},
   "outputs": [
    {
     "data": {
      "text/plain": [
       "pop_rand! (generic function with 1 method)"
      ]
     },
     "metadata": {},
     "output_type": "display_data"
    }
   ],
   "source": [
    "function pop_rand!(s::Set)\n",
    "    pop!(s, rand(s))\n",
    "end"
   ]
  },
  {
   "cell_type": "markdown",
   "metadata": {},
   "source": [
    "## Score best clustering"
   ]
  },
  {
   "cell_type": "code",
   "execution_count": 11,
   "metadata": {},
   "outputs": [
    {
     "data": {
      "text/plain": [
       "score_cluster (generic function with 1 method)"
      ]
     },
     "metadata": {},
     "output_type": "display_data"
    }
   ],
   "source": [
    "function score_cluster(coords, cluster)\n",
    "    \"First is number of member, second - mean distance to members from the center\"\n",
    "    center = find_centroid(coords[cluster, :])\n",
    "    distances_to_members = distance_to_edges(coords[cluster, :], center)\n",
    "    length(cluster), -sum(distances_to_members)\n",
    "end"
   ]
  },
  {
   "cell_type": "code",
   "execution_count": 12,
   "metadata": {},
   "outputs": [
    {
     "data": {
      "text/plain": [
       "sort_clusters (generic function with 1 method)"
      ]
     },
     "metadata": {},
     "output_type": "display_data"
    }
   ],
   "source": [
    "function sort_clusters(clusters)\n",
    "    sorted_dict = sort(collect(clusters), by=x -> score_cluster(coords, x[2]), rev=true)\n",
    "    return [v for (n, (k, v)) in enumerate(sorted_dict)]\n",
    "end"
   ]
  },
  {
   "cell_type": "code",
   "execution_count": 13,
   "metadata": {},
   "outputs": [
    {
     "data": {
      "text/plain": [
       "score_clustering (generic function with 1 method)"
      ]
     },
     "metadata": {},
     "output_type": "display_data"
    }
   ],
   "source": [
    "function score_clustering(coords, clusters)\n",
    "    best_clusters = sort_clusters(clusters)[begin:NUM_TARGETS]\n",
    "    scores_matrix = reduce(vcat, transpose.(map(x -> collect(score_cluster(coords, x)), best_clusters)))\n",
    "    Tuple(sum(scores_matrix, dims=1))\n",
    "end"
   ]
  },
  {
   "cell_type": "markdown",
   "metadata": {},
   "source": [
    "## Find clusters"
   ]
  },
  {
   "cell_type": "code",
   "execution_count": 14,
   "metadata": {},
   "outputs": [
    {
     "data": {
      "text/plain": [
       "find_clusters (generic function with 1 method)"
      ]
     },
     "metadata": {},
     "output_type": "display_data"
    }
   ],
   "source": [
    "function find_clusters_greedy(coords, threshold)\n",
    "    clusters = Dict{Int64,Vector{Int64}}()\n",
    "    available_edges = Set([1:size(coords)[1];])\n",
    "    current_cluster = 1\n",
    "    clusters[current_cluster] = [pop_rand!(available_edges)]\n",
    "    while !isempty(available_edges)\n",
    "        cluster_center = find_centroid(coords[clusters[current_cluster], :])\n",
    "        cl_edge_idx, cl_distance = closest_edge(coords, vec(cluster_center), available_edges)\n",
    "        to_be_cluster = coords[vcat(clusters[current_cluster], [cl_edge_idx]), :]\n",
    "\n",
    "        new_cluster_center = find_centroid(to_be_cluster)\n",
    "\n",
    "        all_distances = distance_to_edges(to_be_cluster, new_cluster_center)\n",
    "\n",
    "        if cl_distance > threshold || any(x -> x > threshold, all_distances)\n",
    "            current_cluster += 1\n",
    "            clusters[current_cluster] = [pop_rand!(available_edges)]\n",
    "        else\n",
    "            delete!(available_edges, cl_edge_idx)\n",
    "            push!(clusters[current_cluster], cl_edge_idx)\n",
    "        end\n",
    "    end\n",
    "    clusters\n",
    "end\n",
    "\n",
    "function find_clusters(coords, threshold)\n",
    "    best_clustering = Dict()\n",
    "    best_quality = (-Inf, -Inf)\n",
    "    for _ in 1:N_ROLLS\n",
    "        clusters = find_clusters_greedy(coords, threshold)\n",
    "        quality = score_clustering(coords, clusters)\n",
    "        # println(typeof(quality), quality, typeof(best_clustering), best_clustering)\n",
    "        if quality > best_quality\n",
    "            best_clustering = clusters\n",
    "            best_quality = quality\n",
    "        end\n",
    "    end\n",
    "    sort_clusters(best_clustering)\n",
    "end\n"
   ]
  },
  {
   "cell_type": "code",
   "execution_count": 15,
   "metadata": {},
   "outputs": [
    {
     "data": {
      "text/plain": [
       "Dict{Int64, Vector{Int64}} with 7 entries:\n",
       "  5 => [8]\n",
       "  4 => [9]\n",
       "  6 => [1]\n",
       "  7 => [10]\n",
       "  2 => [7]\n",
       "  3 => [4, 2, 3]\n",
       "  1 => [5, 6]"
      ]
     },
     "metadata": {},
     "output_type": "display_data"
    }
   ],
   "source": [
    "clusters = find_clusters_greedy(coords, 20)"
   ]
  },
  {
   "cell_type": "code",
   "execution_count": 16,
   "metadata": {},
   "outputs": [
    {
     "data": {
      "text/plain": [
       "7-element Vector{Vector{Int64}}:\n",
       " [3, 4, 2]\n",
       " [5, 6]\n",
       " [10]\n",
       " [9]\n",
       " [8]\n",
       " [7]\n",
       " [1]"
      ]
     },
     "metadata": {},
     "output_type": "display_data"
    }
   ],
   "source": [
    "find_clusters(coords, 20)"
   ]
  },
  {
   "cell_type": "markdown",
   "metadata": {},
   "source": [
    "## Plots"
   ]
  },
  {
   "cell_type": "code",
   "execution_count": 17,
   "metadata": {},
   "outputs": [
    {
     "ename": "MethodError",
     "evalue": "MethodError: no method matching scatter(::Vector{Int64}, ::Vector{Int64}, ::Vector{Int64})",
     "output_type": "error",
     "traceback": [
      "MethodError: no method matching scatter(::Vector{Int64}, ::Vector{Int64}, ::Vector{Int64})\n",
      "\n",
      "Stacktrace:\n",
      " [1] top-level scope\n",
      "   @ ~/github/ship/ship_julia.ipynb:10"
     ]
    }
   ],
   "source": [
    "# plt = plot3d(\n",
    "#     1,\n",
    "#     xlim = (-30, 30),\n",
    "#     ylim = (-30, 30),\n",
    "#     zlim = (0, 60),\n",
    "#     title = \"Lorenz Attractor\",\n",
    "#     legend = false,\n",
    "#     marker = 2,\n",
    "# )\n",
    "scatter(coords[:, 1], coords[:, 2], coords[:, 3])"
   ]
  },
  {
   "cell_type": "code",
   "execution_count": 18,
   "metadata": {},
   "outputs": [
    {
     "data": {
      "text/plain": [
       "10×3 Matrix{Int64}:\n",
       " 200  150  150\n",
       " 210  130  140\n",
       " 205  120  135\n",
       " 205  130  135\n",
       " 205   50   50\n",
       " 205   65   50\n",
       " 210   50   70\n",
       " 200   30   50\n",
       " 100   45   50\n",
       "  45  100   92"
      ]
     },
     "metadata": {},
     "output_type": "display_data"
    }
   ],
   "source": [
    "coords"
   ]
  },
  {
   "cell_type": "code",
   "execution_count": 19,
   "metadata": {},
   "outputs": [
    {
     "data": {
      "text/html": [
       "<div><div style = \"float: left;\"><span>2×3 DataFrame</span></div><div style = \"clear: both;\"></div></div><div class = \"data-frame\" style = \"overflow-x: scroll;\"><table class = \"data-frame\" style = \"margin-bottom: 6px;\"><thead><tr class = \"header\"><th class = \"rowNumber\" style = \"font-weight: bold; text-align: right;\">Row</th><th style = \"text-align: left;\">x</th><th style = \"text-align: left;\">y</th><th style = \"text-align: left;\">z</th></tr><tr class = \"subheader headerLastRow\"><th class = \"rowNumber\" style = \"font-weight: bold; text-align: right;\"></th><th title = \"Float64\" style = \"text-align: left;\">Float64</th><th title = \"Float64\" style = \"text-align: left;\">Float64</th><th title = \"Float64\" style = \"text-align: left;\">Float64</th></tr></thead><tbody><tr><td class = \"rowNumber\" style = \"font-weight: bold; text-align: right;\">1</td><td style = \"text-align: right;\">206.667</td><td style = \"text-align: right;\">126.667</td><td style = \"text-align: right;\">136.667</td></tr><tr><td class = \"rowNumber\" style = \"font-weight: bold; text-align: right;\">2</td><td style = \"text-align: right;\">205.0</td><td style = \"text-align: right;\">65.0</td><td style = \"text-align: right;\">50.0</td></tr></tbody></table></div>"
      ],
      "text/latex": [
       "\\begin{tabular}{r|ccc}\n",
       "\t& x & y & z\\\\\n",
       "\t\\hline\n",
       "\t& Float64 & Float64 & Float64\\\\\n",
       "\t\\hline\n",
       "\t1 & 206.667 & 126.667 & 136.667 \\\\\n",
       "\t2 & 205.0 & 65.0 & 50.0 \\\\\n",
       "\\end{tabular}\n"
      ],
      "text/plain": [
       "\u001b[1m2×3 DataFrame\u001b[0m\n",
       "\u001b[1m Row \u001b[0m│\u001b[1m x       \u001b[0m\u001b[1m y       \u001b[0m\u001b[1m z       \u001b[0m\n",
       "     │\u001b[90m Float64 \u001b[0m\u001b[90m Float64 \u001b[0m\u001b[90m Float64 \u001b[0m\n",
       "─────┼───────────────────────────\n",
       "   1 │ 206.667  126.667  136.667\n",
       "   2 │ 205.0     65.0     50.0"
      ]
     },
     "metadata": {},
     "output_type": "display_data"
    }
   ],
   "source": [
    "targets = find_clusters(coords, RADIUS_DAMAGE)[begin:NUM_TARGETS]\n",
    "m = reduce(vcat, map(x -> find_centroid(coords[x, :]), targets))\n",
    "centers_targets = DataFrame(m, [:x, :y, :z])"
   ]
  },
  {
   "cell_type": "code",
   "execution_count": 20,
   "metadata": {},
   "outputs": [
    {
     "data": {
      "text/plain": [
       "Set{Int64} with 4 elements:\n",
       "  4\n",
       "  6\n",
       "  2\n",
       "  3"
      ]
     },
     "metadata": {},
     "output_type": "display_data"
    }
   ],
   "source": [
    "targeted = Set(reduce(vcat, targets))"
   ]
  },
  {
   "cell_type": "code",
   "execution_count": 21,
   "metadata": {},
   "outputs": [
    {
     "data": {
      "text/plain": [
       "10-element Vector{String}:\n",
       " \"blue\"\n",
       " \"red\"\n",
       " \"red\"\n",
       " \"red\"\n",
       " \"blue\"\n",
       " \"red\"\n",
       " \"blue\"\n",
       " \"blue\"\n",
       " \"blue\"\n",
       " \"blue\""
      ]
     },
     "metadata": {},
     "output_type": "display_data"
    }
   ],
   "source": [
    "is_targeted = [i in targeted ? \"red\" : \"blue\" for i in 1:size(df)[1]]"
   ]
  },
  {
   "cell_type": "code",
   "execution_count": 22,
   "metadata": {},
   "outputs": [
    {
     "data": {
      "text/plain": [
       "10-element Vector{String}:\n",
       " \"blue\"\n",
       " \"red\"\n",
       " \"red\"\n",
       " \"red\"\n",
       " \"blue\"\n",
       " \"red\"\n",
       " \"blue\"\n",
       " \"blue\"\n",
       " \"blue\"\n",
       " \"blue\""
      ]
     },
     "metadata": {},
     "output_type": "display_data"
    }
   ],
   "source": [
    "df[!, :is_targeted] = is_targeted"
   ]
  },
  {
   "cell_type": "code",
   "execution_count": 23,
   "metadata": {},
   "outputs": [
    {
     "name": "stderr",
     "output_type": "stream",
     "text": [
      "┌ Warning: attempting to remove probably stale pidfile\n",
      "│   path = /Users/pyro/.jlassetregistry.lock\n",
      "└ @ Pidfile /Users/pyro/.julia/packages/Pidfile/DDu3M/src/Pidfile.jl:260\n"
     ]
    },
    {
     "data": {
      "application/vnd.plotly.v1+json": {
       "config": {
        "editable": false,
        "responsive": true,
        "scrollZoom": true,
        "showLink": false,
        "staticPlot": false
       },
       "data": [
        {
         "marker": {
          "color": [
           "blue",
           "red",
           "red",
           "red",
           "blue",
           "red",
           "blue",
           "blue",
           "blue",
           "blue"
          ],
          "size": 5,
          "sizemode": "diameter"
         },
         "mode": "markers",
         "type": "scatter3d",
         "x": [
          200,
          210,
          205,
          205,
          205,
          205,
          210,
          200,
          100,
          45
         ],
         "y": [
          150,
          130,
          120,
          130,
          50,
          65,
          50,
          30,
          45,
          100
         ],
         "z": [
          150,
          140,
          135,
          135,
          50,
          50,
          70,
          50,
          50,
          92
         ]
        },
        {
         "marker": {
          "color": "red",
          "opacity": 0.4,
          "size": 20,
          "sizemode": "diameter",
          "sizeref": 750
         },
         "mode": "markers",
         "type": "scatter3d",
         "x": [
          206.66666666666666,
          205
         ],
         "y": [
          126.66666666666667,
          65
         ],
         "z": [
          136.66666666666666,
          50
         ]
        }
       ],
       "frames": [],
       "layout": {
        "margin": {
         "b": 50,
         "l": 50,
         "r": 50,
         "t": 60
        },
        "scene": {
         "zaxis": {
          "type": "log"
         }
        },
        "template": {
         "data": {
          "bar": [
           {
            "error_x": {
             "color": "#2a3f5f"
            },
            "error_y": {
             "color": "#2a3f5f"
            },
            "marker": {
             "line": {
              "color": "#E5ECF6",
              "width": 0.5
             }
            },
            "type": "bar"
           }
          ],
          "barpolar": [
           {
            "marker": {
             "line": {
              "color": "#E5ECF6",
              "width": 0.5
             }
            },
            "type": "barpolar"
           }
          ],
          "carpet": [
           {
            "aaxis": {
             "endlinecolor": "#2a3f5f",
             "gridcolor": "white",
             "linecolor": "white",
             "minorgridcolor": "white",
             "startlinecolor": "#2a3f5f"
            },
            "baxis": {
             "endlinecolor": "#2a3f5f",
             "gridcolor": "white",
             "linecolor": "white",
             "minorgridcolor": "white",
             "startlinecolor": "#2a3f5f"
            },
            "type": "carpet"
           }
          ],
          "choropleth": [
           {
            "colorbar": {
             "outlinewidth": 0,
             "ticks": ""
            },
            "type": "choropleth"
           }
          ],
          "contour": [
           {
            "colorbar": {
             "outlinewidth": 0,
             "ticks": ""
            },
            "colorscale": [
             [
              0,
              "#0d0887"
             ],
             [
              0.1111111111111111,
              "#46039f"
             ],
             [
              0.2222222222222222,
              "#7201a8"
             ],
             [
              0.3333333333333333,
              "#9c179e"
             ],
             [
              0.4444444444444444,
              "#bd3786"
             ],
             [
              0.5555555555555556,
              "#d8576b"
             ],
             [
              0.6666666666666666,
              "#ed7953"
             ],
             [
              0.7777777777777778,
              "#fb9f3a"
             ],
             [
              0.8888888888888888,
              "#fdca26"
             ],
             [
              1,
              "#f0f921"
             ]
            ],
            "type": "contour"
           }
          ],
          "contourcarpet": [
           {
            "colorbar": {
             "outlinewidth": 0,
             "ticks": ""
            },
            "type": "contourcarpet"
           }
          ],
          "heatmap": [
           {
            "colorbar": {
             "outlinewidth": 0,
             "ticks": ""
            },
            "colorscale": [
             [
              0,
              "#0d0887"
             ],
             [
              0.1111111111111111,
              "#46039f"
             ],
             [
              0.2222222222222222,
              "#7201a8"
             ],
             [
              0.3333333333333333,
              "#9c179e"
             ],
             [
              0.4444444444444444,
              "#bd3786"
             ],
             [
              0.5555555555555556,
              "#d8576b"
             ],
             [
              0.6666666666666666,
              "#ed7953"
             ],
             [
              0.7777777777777778,
              "#fb9f3a"
             ],
             [
              0.8888888888888888,
              "#fdca26"
             ],
             [
              1,
              "#f0f921"
             ]
            ],
            "type": "heatmap"
           }
          ],
          "heatmapgl": [
           {
            "colorbar": {
             "outlinewidth": 0,
             "ticks": ""
            },
            "colorscale": [
             [
              0,
              "#0d0887"
             ],
             [
              0.1111111111111111,
              "#46039f"
             ],
             [
              0.2222222222222222,
              "#7201a8"
             ],
             [
              0.3333333333333333,
              "#9c179e"
             ],
             [
              0.4444444444444444,
              "#bd3786"
             ],
             [
              0.5555555555555556,
              "#d8576b"
             ],
             [
              0.6666666666666666,
              "#ed7953"
             ],
             [
              0.7777777777777778,
              "#fb9f3a"
             ],
             [
              0.8888888888888888,
              "#fdca26"
             ],
             [
              1,
              "#f0f921"
             ]
            ],
            "type": "heatmapgl"
           }
          ],
          "histogram": [
           {
            "marker": {
             "colorbar": {
              "outlinewidth": 0,
              "ticks": ""
             }
            },
            "type": "histogram"
           }
          ],
          "histogram2d": [
           {
            "colorbar": {
             "outlinewidth": 0,
             "ticks": ""
            },
            "colorscale": [
             [
              0,
              "#0d0887"
             ],
             [
              0.1111111111111111,
              "#46039f"
             ],
             [
              0.2222222222222222,
              "#7201a8"
             ],
             [
              0.3333333333333333,
              "#9c179e"
             ],
             [
              0.4444444444444444,
              "#bd3786"
             ],
             [
              0.5555555555555556,
              "#d8576b"
             ],
             [
              0.6666666666666666,
              "#ed7953"
             ],
             [
              0.7777777777777778,
              "#fb9f3a"
             ],
             [
              0.8888888888888888,
              "#fdca26"
             ],
             [
              1,
              "#f0f921"
             ]
            ],
            "type": "histogram2d"
           }
          ],
          "histogram2dcontour": [
           {
            "colorbar": {
             "outlinewidth": 0,
             "ticks": ""
            },
            "colorscale": [
             [
              0,
              "#0d0887"
             ],
             [
              0.1111111111111111,
              "#46039f"
             ],
             [
              0.2222222222222222,
              "#7201a8"
             ],
             [
              0.3333333333333333,
              "#9c179e"
             ],
             [
              0.4444444444444444,
              "#bd3786"
             ],
             [
              0.5555555555555556,
              "#d8576b"
             ],
             [
              0.6666666666666666,
              "#ed7953"
             ],
             [
              0.7777777777777778,
              "#fb9f3a"
             ],
             [
              0.8888888888888888,
              "#fdca26"
             ],
             [
              1,
              "#f0f921"
             ]
            ],
            "type": "histogram2dcontour"
           }
          ],
          "mesh3d": [
           {
            "colorbar": {
             "outlinewidth": 0,
             "ticks": ""
            },
            "type": "mesh3d"
           }
          ],
          "parcoords": [
           {
            "line": {
             "colorbar": {
              "outlinewidth": 0,
              "ticks": ""
             }
            },
            "type": "parcoords"
           }
          ],
          "pie": [
           {
            "automargin": true,
            "type": "pie"
           }
          ],
          "scatter": [
           {
            "marker": {
             "colorbar": {
              "outlinewidth": 0,
              "ticks": ""
             }
            },
            "type": "scatter"
           }
          ],
          "scatter3d": [
           {
            "line": {
             "colorbar": {
              "outlinewidth": 0,
              "ticks": ""
             }
            },
            "marker": {
             "colorbar": {
              "outlinewidth": 0,
              "ticks": ""
             }
            },
            "type": "scatter3d"
           }
          ],
          "scattercarpet": [
           {
            "marker": {
             "colorbar": {
              "outlinewidth": 0,
              "ticks": ""
             }
            },
            "type": "scattercarpet"
           }
          ],
          "scattergeo": [
           {
            "marker": {
             "colorbar": {
              "outlinewidth": 0,
              "ticks": ""
             }
            },
            "type": "scattergeo"
           }
          ],
          "scattergl": [
           {
            "marker": {
             "colorbar": {
              "outlinewidth": 0,
              "ticks": ""
             }
            },
            "type": "scattergl"
           }
          ],
          "scattermapbox": [
           {
            "marker": {
             "colorbar": {
              "outlinewidth": 0,
              "ticks": ""
             }
            },
            "type": "scattermapbox"
           }
          ],
          "scatterpolar": [
           {
            "marker": {
             "colorbar": {
              "outlinewidth": 0,
              "ticks": ""
             }
            },
            "type": "scatterpolar"
           }
          ],
          "scatterpolargl": [
           {
            "marker": {
             "colorbar": {
              "outlinewidth": 0,
              "ticks": ""
             }
            },
            "type": "scatterpolargl"
           }
          ],
          "scatterternary": [
           {
            "marker": {
             "colorbar": {
              "outlinewidth": 0,
              "ticks": ""
             }
            },
            "type": "scatterternary"
           }
          ],
          "surface": [
           {
            "colorbar": {
             "outlinewidth": 0,
             "ticks": ""
            },
            "colorscale": [
             [
              0,
              "#0d0887"
             ],
             [
              0.1111111111111111,
              "#46039f"
             ],
             [
              0.2222222222222222,
              "#7201a8"
             ],
             [
              0.3333333333333333,
              "#9c179e"
             ],
             [
              0.4444444444444444,
              "#bd3786"
             ],
             [
              0.5555555555555556,
              "#d8576b"
             ],
             [
              0.6666666666666666,
              "#ed7953"
             ],
             [
              0.7777777777777778,
              "#fb9f3a"
             ],
             [
              0.8888888888888888,
              "#fdca26"
             ],
             [
              1,
              "#f0f921"
             ]
            ],
            "type": "surface"
           }
          ],
          "table": [
           {
            "cells": {
             "fill": {
              "color": "#EBF0F8"
             },
             "line": {
              "color": "white"
             }
            },
            "header": {
             "fill": {
              "color": "#C8D4E3"
             },
             "line": {
              "color": "white"
             }
            },
            "type": "table"
           }
          ]
         },
         "layout": {
          "annotationdefaults": {
           "arrowcolor": "#2a3f5f",
           "arrowhead": 0,
           "arrowwidth": 1
          },
          "autotypenumbers": "strict",
          "coloraxis": {
           "colorbar": {
            "outlinewidth": 0,
            "ticks": ""
           }
          },
          "colorscale": {
           "diverging": [
            [
             0,
             "#8e0152"
            ],
            [
             0.1,
             "#c51b7d"
            ],
            [
             0.2,
             "#de77ae"
            ],
            [
             0.3,
             "#f1b6da"
            ],
            [
             0.4,
             "#fde0ef"
            ],
            [
             0.5,
             "#f7f7f7"
            ],
            [
             0.6,
             "#e6f5d0"
            ],
            [
             0.7,
             "#b8e186"
            ],
            [
             0.8,
             "#7fbc41"
            ],
            [
             0.9,
             "#4d9221"
            ],
            [
             1,
             "#276419"
            ]
           ],
           "sequential": [
            [
             0,
             "#0d0887"
            ],
            [
             0.1111111111111111,
             "#46039f"
            ],
            [
             0.2222222222222222,
             "#7201a8"
            ],
            [
             0.3333333333333333,
             "#9c179e"
            ],
            [
             0.4444444444444444,
             "#bd3786"
            ],
            [
             0.5555555555555556,
             "#d8576b"
            ],
            [
             0.6666666666666666,
             "#ed7953"
            ],
            [
             0.7777777777777778,
             "#fb9f3a"
            ],
            [
             0.8888888888888888,
             "#fdca26"
            ],
            [
             1,
             "#f0f921"
            ]
           ],
           "sequentialminus": [
            [
             0,
             "#0d0887"
            ],
            [
             0.1111111111111111,
             "#46039f"
            ],
            [
             0.2222222222222222,
             "#7201a8"
            ],
            [
             0.3333333333333333,
             "#9c179e"
            ],
            [
             0.4444444444444444,
             "#bd3786"
            ],
            [
             0.5555555555555556,
             "#d8576b"
            ],
            [
             0.6666666666666666,
             "#ed7953"
            ],
            [
             0.7777777777777778,
             "#fb9f3a"
            ],
            [
             0.8888888888888888,
             "#fdca26"
            ],
            [
             1,
             "#f0f921"
            ]
           ]
          },
          "colorway": [
           "#636efa",
           "#EF553B",
           "#00cc96",
           "#ab63fa",
           "#FFA15A",
           "#19d3f3",
           "#FF6692",
           "#B6E880",
           "#FF97FF",
           "#FECB52"
          ],
          "font": {
           "color": "#2a3f5f"
          },
          "geo": {
           "bgcolor": "white",
           "lakecolor": "white",
           "landcolor": "#E5ECF6",
           "showlakes": true,
           "showland": true,
           "subunitcolor": "white"
          },
          "hoverlabel": {
           "align": "left"
          },
          "hovermode": "closest",
          "mapbox": {
           "style": "light"
          },
          "paper_bgcolor": "white",
          "plot_bgcolor": "#E5ECF6",
          "polar": {
           "angularaxis": {
            "gridcolor": "white",
            "linecolor": "white",
            "ticks": ""
           },
           "bgcolor": "#E5ECF6",
           "radialaxis": {
            "gridcolor": "white",
            "linecolor": "white",
            "ticks": ""
           }
          },
          "scene": {
           "xaxis": {
            "backgroundcolor": "#E5ECF6",
            "gridcolor": "white",
            "gridwidth": 2,
            "linecolor": "white",
            "showbackground": true,
            "ticks": "",
            "zerolinecolor": "white"
           },
           "yaxis": {
            "backgroundcolor": "#E5ECF6",
            "gridcolor": "white",
            "gridwidth": 2,
            "linecolor": "white",
            "showbackground": true,
            "ticks": "",
            "zerolinecolor": "white"
           },
           "zaxis": {
            "backgroundcolor": "#E5ECF6",
            "gridcolor": "white",
            "gridwidth": 2,
            "linecolor": "white",
            "showbackground": true,
            "ticks": "",
            "zerolinecolor": "white"
           }
          },
          "shapedefaults": {
           "line": {
            "color": "#2a3f5f"
           }
          },
          "ternary": {
           "aaxis": {
            "gridcolor": "white",
            "linecolor": "white",
            "ticks": ""
           },
           "baxis": {
            "gridcolor": "white",
            "linecolor": "white",
            "ticks": ""
           },
           "bgcolor": "#E5ECF6",
           "caxis": {
            "gridcolor": "white",
            "linecolor": "white",
            "ticks": ""
           }
          },
          "title": {
           "x": 0.05
          },
          "xaxis": {
           "automargin": true,
           "gridcolor": "white",
           "linecolor": "white",
           "ticks": "",
           "title": {
            "standoff": 15
           },
           "zerolinecolor": "white",
           "zerolinewidth": 2
          },
          "yaxis": {
           "automargin": true,
           "gridcolor": "white",
           "linecolor": "white",
           "ticks": "",
           "title": {
            "standoff": 15
           },
           "zerolinecolor": "white",
           "zerolinewidth": 2
          }
         }
        }
       }
      },
      "image/png": "[encoded data removed]",
      "image/svg+xml": [
       "<svg class=\"main-svg\" xmlns=\"http://www.w3.org/2000/svg\" xmlns:xlink=\"http://www.w3.org/1999/xlink\" width=\"700\" height=\"500\" style=\"\" viewBox=\"0 0 700 500\"><rect x=\"0\" y=\"0\" width=\"700\" height=\"500\" style=\"fill: rgb(255, 255, 255); fill-opacity: 1;\"/><defs id=\"defs-37c2da\"><g class=\"clips\"/><g class=\"gradients\"/></defs><g class=\"bglayer\"/><g class=\"layer-below\"><g class=\"imagelayer\"/><g class=\"shapelayer\"/></g><g class=\"cartesianlayer\"/><g class=\"polarlayer\"/><g class=\"ternarylayer\"/><g class=\"geolayer\"/><g class=\"funnelarealayer\"/><g class=\"pielayer\"/><g class=\"treemaplayer\"/><g class=\"sunburstlayer\"/><g class=\"glimages\"><image xmlns=\"http://www.w3.org/2000/svg\" xlink:href=\"data:image/png;base64,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\" x=\"50\" y=\"60\" width=\"539\" height=\"390\" preserveAspectRatio=\"none\"/></g><defs id=\"topdefs-37c2da\"><g class=\"clips\"/><clipPath id=\"legend37c2da\"><rect width=\"88\" height=\"48\" x=\"0\" y=\"0\"/></clipPath></defs><g class=\"layer-above\"><g class=\"imagelayer\"/><g class=\"shapelayer\"/></g><g class=\"infolayer\"><g class=\"legend\" pointer-events=\"all\" transform=\"translate(599.78,60)\"><rect class=\"bg\" shape-rendering=\"crispEdges\" style=\"stroke: rgb(68, 68, 68); stroke-opacity: 1; fill: rgb(255, 255, 255); fill-opacity: 1; stroke-width: 0px;\" width=\"88\" height=\"48\" x=\"0\" y=\"0\"/><g class=\"scrollbox\" transform=\"\" clip-path=\"url('#legend37c2da')\"><g class=\"groups\"><g class=\"traces\" transform=\"translate(0,14.5)\" style=\"opacity: 1;\"><text class=\"legendtext\" text-anchor=\"start\" x=\"40\" y=\"4.680000000000001\" style=\"font-family: 'Open Sans', verdana, arial, sans-serif; font-size: 12px; fill: rgb(42, 63, 95); fill-opacity: 1; white-space: pre;\">trace 0</text><g class=\"layers\" style=\"opacity: 1;\"><g class=\"legendfill\"/><g class=\"legendlines\"/><g class=\"legendsymbols\"><g class=\"legendpoints\"><path class=\"scatterpts\" transform=\"translate(20,0)\" d=\"M2.5,0A2.5,2.5 0 1,1 0,-2.5A2.5,2.5 0 0,1 2.5,0Z\" style=\"opacity: 1; stroke-width: 0px; fill: rgb(0, 0, 255); fill-opacity: 1;\"/></g></g></g><rect class=\"legendtoggle\" x=\"0\" y=\"-9.5\" width=\"82.3125\" height=\"19\" style=\"fill: rgb(0, 0, 0); fill-opacity: 0;\"/></g><g class=\"traces\" transform=\"translate(0,33.5)\" style=\"opacity: 1;\"><text class=\"legendtext\" text-anchor=\"start\" x=\"40\" y=\"4.680000000000001\" style=\"font-family: 'Open Sans', verdana, arial, sans-serif; font-size: 12px; fill: rgb(42, 63, 95); fill-opacity: 1; white-space: pre;\">trace 1</text><g class=\"layers\" style=\"opacity: 1;\"><g class=\"legendfill\"/><g class=\"legendlines\"/><g class=\"legendsymbols\"><g class=\"legendpoints\"><path class=\"scatterpts\" transform=\"translate(20,0)\" d=\"M8,0A8,8 0 1,1 0,-8A8,8 0 0,1 8,0Z\" style=\"opacity: 0.4; stroke-width: 0px; fill: rgb(255, 0, 0); fill-opacity: 1;\"/></g></g></g><rect class=\"legendtoggle\" x=\"0\" y=\"-9.5\" width=\"82.3125\" height=\"19\" style=\"fill: rgb(0, 0, 0); fill-opacity: 0;\"/></g></g></g><rect class=\"scrollbar\" rx=\"20\" ry=\"3\" width=\"0\" height=\"0\" style=\"fill: rgb(128, 139, 164); fill-opacity: 1;\" x=\"0\" y=\"0\"/></g><g class=\"g-gtitle\"/></g></svg>"
      ],
      "text/html": [
       "<div\n",
       "    class=\"webio-mountpoint\"\n",
       "    data-webio-mountpoint=\"1878307972763872678\"\n",
       ">\n",
       "    <script>\n",
       "    (function(){\n",
       "    // Some integrations (namely, IJulia/Jupyter) use an alternate render pathway than\n",
       "    // just putting the html on the page. If WebIO isn't defined, then it's pretty likely\n",
       "    // that we're in one of those situations and the integration just isn't installed\n",
       "    // correctly.\n",
       "    if (typeof window.WebIO === \"undefined\") {\n",
       "        document\n",
       "            .querySelector('[data-webio-mountpoint=\"1878307972763872678\"]')\n",
       "            .innerHTML = (\n",
       "                '<div style=\"padding: 1em; background-color: #f8d6da; border: 1px solid #f5c6cb; font-weight: bold;\">' +\n",
       "                '<p><strong>WebIO not detected.</strong></p>' +\n",
       "                '<p>Please read ' +\n",
       "                '<a href=\"https://juliagizmos.github.io/WebIO.jl/latest/troubleshooting/not-detected/\" target=\"_blank\">the troubleshooting guide</a> ' +\n",
       "                'for more information on how to resolve this issue.</p>' +\n",
       "                '<p><a href=\"https://juliagizmos.github.io/WebIO.jl/latest/troubleshooting/not-detected/\" target=\"_blank\">https://juliagizmos.github.io/WebIO.jl/latest/troubleshooting/not-detected/</a></p>' +\n",
       "                '</div>'\n",
       "            );\n",
       "        return;\n",
       "    }\n",
       "    WebIO.mount(\n",
       "        document.querySelector('[data-webio-mountpoint=\"1878307972763872678\"]'),\n",
       "        {\"props\":{},\"nodeType\":\"Scope\",\"type\":\"node\",\"instanceArgs\":{\"imports\":{\"data\":[{\"name\":\"Plotly\",\"type\":\"js\",\"url\":\"\\/assetserver\\/33f09e3ca914e7126c73593991af22b1236bbe48-plotly.min.js\"},{\"name\":null,\"type\":\"js\",\"url\":\"\\/assetserver\\/89228d7dd77d270397221c677620e638e8b8b451-plotly_webio.bundle.js\"}],\"type\":\"async_block\"},\"id\":\"13635450486987919496\",\"handlers\":{\"_toImage\":[\"(function (options){return this.Plotly.toImage(this.plotElem,options).then((function (data){return WebIO.setval({\\\"name\\\":\\\"image\\\",\\\"scope\\\":\\\"13635450486987919496\\\",\\\"id\\\":\\\"5\\\",\\\"type\\\":\\\"observable\\\"},data)}))})\"],\"__get_gd_contents\":[\"(function (prop){prop==\\\"data\\\" ? (WebIO.setval({\\\"name\\\":\\\"__gd_contents\\\",\\\"scope\\\":\\\"13635450486987919496\\\",\\\"id\\\":\\\"6\\\",\\\"type\\\":\\\"observable\\\"},this.plotElem.data)) : undefined; return prop==\\\"layout\\\" ? (WebIO.setval({\\\"name\\\":\\\"__gd_contents\\\",\\\"scope\\\":\\\"13635450486987919496\\\",\\\"id\\\":\\\"6\\\",\\\"type\\\":\\\"observable\\\"},this.plotElem.layout)) : undefined})\"],\"_downloadImage\":[\"(function (options){return this.Plotly.downloadImage(this.plotElem,options)})\"],\"_commands\":[\"(function (args){var fn=args.shift(); var elem=this.plotElem; var Plotly=this.Plotly; args.unshift(elem); return Plotly[fn].apply(this,args)})\"]},\"systemjs_options\":null,\"mount_callbacks\":[\"function () {\\n    var handler = ((function (Plotly,PlotlyWebIO){PlotlyWebIO.init(WebIO); var gd=this.dom.querySelector(\\\"#plot-fdafb9aa-34c1-4d56-9fbf-b20b0a0109a2\\\"); this.plotElem=gd; this.Plotly=Plotly; (window.Blink!==undefined) ? (gd.style.width=\\\"100%\\\", gd.style.height=\\\"100vh\\\", gd.style.marginLeft=\\\"0%\\\", gd.style.marginTop=\\\"0vh\\\") : undefined; window.onresize=(function (){return Plotly.Plots.resize(gd)}); Plotly.newPlot(gd,[{\\\"marker\\\":{\\\"color\\\":[\\\"blue\\\",\\\"red\\\",\\\"red\\\",\\\"red\\\",\\\"blue\\\",\\\"red\\\",\\\"blue\\\",\\\"blue\\\",\\\"blue\\\",\\\"blue\\\"],\\\"size\\\":5,\\\"sizemode\\\":\\\"diameter\\\"},\\\"mode\\\":\\\"markers\\\",\\\"y\\\":[150,130,120,130,50,65,50,30,45,100],\\\"type\\\":\\\"scatter3d\\\",\\\"z\\\":[150,140,135,135,50,50,70,50,50,92],\\\"x\\\":[200,210,205,205,205,205,210,200,100,45]},{\\\"marker\\\":{\\\"color\\\":\\\"red\\\",\\\"sizeref\\\":750,\\\"opacity\\\":0.4,\\\"size\\\":20,\\\"sizemode\\\":\\\"diameter\\\"},\\\"mode\\\":\\\"markers\\\",\\\"y\\\":[126.66666666666667,65.0],\\\"type\\\":\\\"scatter3d\\\",\\\"z\\\":[136.66666666666666,50.0],\\\"x\\\":[206.66666666666666,205.0]}],{\\\"template\\\":{\\\"layout\\\":{\\\"coloraxis\\\":{\\\"colorbar\\\":{\\\"ticks\\\":\\\"\\\",\\\"outlinewidth\\\":0}},\\\"xaxis\\\":{\\\"gridcolor\\\":\\\"white\\\",\\\"zerolinewidth\\\":2,\\\"title\\\":{\\\"standoff\\\":15},\\\"ticks\\\":\\\"\\\",\\\"zerolinecolor\\\":\\\"white\\\",\\\"automargin\\\":true,\\\"linecolor\\\":\\\"white\\\"},\\\"hovermode\\\":\\\"closest\\\",\\\"paper_bgcolor\\\":\\\"white\\\",\\\"geo\\\":{\\\"showlakes\\\":true,\\\"showland\\\":true,\\\"landcolor\\\":\\\"#E5ECF6\\\",\\\"bgcolor\\\":\\\"white\\\",\\\"subunitcolor\\\":\\\"white\\\",\\\"lakecolor\\\":\\\"white\\\"},\\\"colorscale\\\":{\\\"sequential\\\":[[0.0,\\\"#0d0887\\\"],[0.1111111111111111,\\\"#46039f\\\"],[0.2222222222222222,\\\"#7201a8\\\"],[0.3333333333333333,\\\"#9c179e\\\"],[0.4444444444444444,\\\"#bd3786\\\"],[0.5555555555555556,\\\"#d8576b\\\"],[0.6666666666666666,\\\"#ed7953\\\"],[0.7777777777777778,\\\"#fb9f3a\\\"],[0.8888888888888888,\\\"#fdca26\\\"],[1.0,\\\"#f0f921\\\"]],\\\"diverging\\\":[[0,\\\"#8e0152\\\"],[0.1,\\\"#c51b7d\\\"],[0.2,\\\"#de77ae\\\"],[0.3,\\\"#f1b6da\\\"],[0.4,\\\"#fde0ef\\\"],[0.5,\\\"#f7f7f7\\\"],[0.6,\\\"#e6f5d0\\\"],[0.7,\\\"#b8e186\\\"],[0.8,\\\"#7fbc41\\\"],[0.9,\\\"#4d9221\\\"],[1,\\\"#276419\\\"]],\\\"sequentialminus\\\":[[0.0,\\\"#0d0887\\\"],[0.1111111111111111,\\\"#46039f\\\"],[0.2222222222222222,\\\"#7201a8\\\"],[0.3333333333333333,\\\"#9c179e\\\"],[0.4444444444444444,\\\"#bd3786\\\"],[0.5555555555555556,\\\"#d8576b\\\"],[0.6666666666666666,\\\"#ed7953\\\"],[0.7777777777777778,\\\"#fb9f3a\\\"],[0.8888888888888888,\\\"#fdca26\\\"],[1.0,\\\"#f0f921\\\"]]},\\\"yaxis\\\":{\\\"gridcolor\\\":\\\"white\\\",\\\"zerolinewidth\\\":2,\\\"title\\\":{\\\"standoff\\\":15},\\\"ticks\\\":\\\"\\\",\\\"zerolinecolor\\\":\\\"white\\\",\\\"automargin\\\":true,\\\"linecolor\\\":\\\"white\\\"},\\\"shapedefaults\\\":{\\\"line\\\":{\\\"color\\\":\\\"#2a3f5f\\\"}},\\\"hoverlabel\\\":{\\\"align\\\":\\\"left\\\"},\\\"mapbox\\\":{\\\"style\\\":\\\"light\\\"},\\\"polar\\\":{\\\"angularaxis\\\":{\\\"gridcolor\\\":\\\"white\\\",\\\"ticks\\\":\\\"\\\",\\\"linecolor\\\":\\\"white\\\"},\\\"bgcolor\\\":\\\"#E5ECF6\\\",\\\"radialaxis\\\":{\\\"gridcolor\\\":\\\"white\\\",\\\"ticks\\\":\\\"\\\",\\\"linecolor\\\":\\\"white\\\"}},\\\"autotypenumbers\\\":\\\"strict\\\",\\\"font\\\":{\\\"color\\\":\\\"#2a3f5f\\\"},\\\"ternary\\\":{\\\"baxis\\\":{\\\"gridcolor\\\":\\\"white\\\",\\\"ticks\\\":\\\"\\\",\\\"linecolor\\\":\\\"white\\\"},\\\"bgcolor\\\":\\\"#E5ECF6\\\",\\\"caxis\\\":{\\\"gridcolor\\\":\\\"white\\\",\\\"ticks\\\":\\\"\\\",\\\"linecolor\\\":\\\"white\\\"},\\\"aaxis\\\":{\\\"gridcolor\\\":\\\"white\\\",\\\"ticks\\\":\\\"\\\",\\\"linecolor\\\":\\\"white\\\"}},\\\"annotationdefaults\\\":{\\\"arrowhead\\\":0,\\\"arrowwidth\\\":1,\\\"arrowcolor\\\":\\\"#2a3f5f\\\"},\\\"plot_bgcolor\\\":\\\"#E5ECF6\\\",\\\"title\\\":{\\\"x\\\":0.05},\\\"scene\\\":{\\\"xaxis\\\":{\\\"gridcolor\\\":\\\"white\\\",\\\"gridwidth\\\":2,\\\"backgroundcolor\\\":\\\"#E5ECF6\\\",\\\"ticks\\\":\\\"\\\",\\\"showbackground\\\":true,\\\"zerolinecolor\\\":\\\"white\\\",\\\"linecolor\\\":\\\"white\\\"},\\\"zaxis\\\":{\\\"gridcolor\\\":\\\"white\\\",\\\"gridwidth\\\":2,\\\"backgroundcolor\\\":\\\"#E5ECF6\\\",\\\"ticks\\\":\\\"\\\",\\\"showbackground\\\":true,\\\"zerolinecolor\\\":\\\"white\\\",\\\"linecolor\\\":\\\"white\\\"},\\\"yaxis\\\":{\\\"gridcolor\\\":\\\"white\\\",\\\"gridwidth\\\":2,\\\"backgroundcolor\\\":\\\"#E5ECF6\\\",\\\"ticks\\\":\\\"\\\",\\\"showbackground\\\":true,\\\"zerolinecolor\\\":\\\"white\\\",\\\"linecolor\\\":\\\"white\\\"}},\\\"colorway\\\":[\\\"#636efa\\\",\\\"#EF553B\\\",\\\"#00cc96\\\",\\\"#ab63fa\\\",\\\"#FFA15A\\\",\\\"#19d3f3\\\",\\\"#FF6692\\\",\\\"#B6E880\\\",\\\"#FF97FF\\\",\\\"#FECB52\\\"]},\\\"data\\\":{\\\"barpolar\\\":[{\\\"type\\\":\\\"barpolar\\\",\\\"marker\\\":{\\\"line\\\":{\\\"color\\\":\\\"#E5ECF6\\\",\\\"width\\\":0.5}}}],\\\"carpet\\\":[{\\\"aaxis\\\":{\\\"gridcolor\\\":\\\"white\\\",\\\"endlinecolor\\\":\\\"#2a3f5f\\\",\\\"minorgridcolor\\\":\\\"white\\\",\\\"startlinecolor\\\":\\\"#2a3f5f\\\",\\\"linecolor\\\":\\\"white\\\"},\\\"type\\\":\\\"carpet\\\",\\\"baxis\\\":{\\\"gridcolor\\\":\\\"white\\\",\\\"endlinecolor\\\":\\\"#2a3f5f\\\",\\\"minorgridcolor\\\":\\\"white\\\",\\\"startlinecolor\\\":\\\"#2a3f5f\\\",\\\"linecolor\\\":\\\"white\\\"}}],\\\"scatterpolar\\\":[{\\\"type\\\":\\\"scatterpolar\\\",\\\"marker\\\":{\\\"colorbar\\\":{\\\"ticks\\\":\\\"\\\",\\\"outlinewidth\\\":0}}}],\\\"parcoords\\\":[{\\\"line\\\":{\\\"colorbar\\\":{\\\"ticks\\\":\\\"\\\",\\\"outlinewidth\\\":0}},\\\"type\\\":\\\"parcoords\\\"}],\\\"scatter\\\":[{\\\"type\\\":\\\"scatter\\\",\\\"marker\\\":{\\\"colorbar\\\":{\\\"ticks\\\":\\\"\\\",\\\"outlinewidth\\\":0}}}],\\\"histogram2dcontour\\\":[{\\\"colorbar\\\":{\\\"ticks\\\":\\\"\\\",\\\"outlinewidth\\\":0},\\\"type\\\":\\\"histogram2dcontour\\\",\\\"colorscale\\\":[[0.0,\\\"#0d0887\\\"],[0.1111111111111111,\\\"#46039f\\\"],[0.2222222222222222,\\\"#7201a8\\\"],[0.3333333333333333,\\\"#9c179e\\\"],[0.4444444444444444,\\\"#bd3786\\\"],[0.5555555555555556,\\\"#d8576b\\\"],[0.6666666666666666,\\\"#ed7953\\\"],[0.7777777777777778,\\\"#fb9f3a\\\"],[0.8888888888888888,\\\"#fdca26\\\"],[1.0,\\\"#f0f921\\\"]]}],\\\"contour\\\":[{\\\"colorbar\\\":{\\\"ticks\\\":\\\"\\\",\\\"outlinewidth\\\":0},\\\"type\\\":\\\"contour\\\",\\\"colorscale\\\":[[0.0,\\\"#0d0887\\\"],[0.1111111111111111,\\\"#46039f\\\"],[0.2222222222222222,\\\"#7201a8\\\"],[0.3333333333333333,\\\"#9c179e\\\"],[0.4444444444444444,\\\"#bd3786\\\"],[0.5555555555555556,\\\"#d8576b\\\"],[0.6666666666666666,\\\"#ed7953\\\"],[0.7777777777777778,\\\"#fb9f3a\\\"],[0.8888888888888888,\\\"#fdca26\\\"],[1.0,\\\"#f0f921\\\"]]}],\\\"scattercarpet\\\":[{\\\"type\\\":\\\"scattercarpet\\\",\\\"marker\\\":{\\\"colorbar\\\":{\\\"ticks\\\":\\\"\\\",\\\"outlinewidth\\\":0}}}],\\\"mesh3d\\\":[{\\\"colorbar\\\":{\\\"ticks\\\":\\\"\\\",\\\"outlinewidth\\\":0},\\\"type\\\":\\\"mesh3d\\\"}],\\\"surface\\\":[{\\\"colorbar\\\":{\\\"ticks\\\":\\\"\\\",\\\"outlinewidth\\\":0},\\\"type\\\":\\\"surface\\\",\\\"colorscale\\\":[[0.0,\\\"#0d0887\\\"],[0.1111111111111111,\\\"#46039f\\\"],[0.2222222222222222,\\\"#7201a8\\\"],[0.3333333333333333,\\\"#9c179e\\\"],[0.4444444444444444,\\\"#bd3786\\\"],[0.5555555555555556,\\\"#d8576b\\\"],[0.6666666666666666,\\\"#ed7953\\\"],[0.7777777777777778,\\\"#fb9f3a\\\"],[0.8888888888888888,\\\"#fdca26\\\"],[1.0,\\\"#f0f921\\\"]]}],\\\"scattermapbox\\\":[{\\\"type\\\":\\\"scattermapbox\\\",\\\"marker\\\":{\\\"colorbar\\\":{\\\"ticks\\\":\\\"\\\",\\\"outlinewidth\\\":0}}}],\\\"scattergeo\\\":[{\\\"type\\\":\\\"scattergeo\\\",\\\"marker\\\":{\\\"colorbar\\\":{\\\"ticks\\\":\\\"\\\",\\\"outlinewidth\\\":0}}}],\\\"histogram\\\":[{\\\"type\\\":\\\"histogram\\\",\\\"marker\\\":{\\\"colorbar\\\":{\\\"ticks\\\":\\\"\\\",\\\"outlinewidth\\\":0}}}],\\\"pie\\\":[{\\\"type\\\":\\\"pie\\\",\\\"automargin\\\":true}],\\\"choropleth\\\":[{\\\"colorbar\\\":{\\\"ticks\\\":\\\"\\\",\\\"outlinewidth\\\":0},\\\"type\\\":\\\"choropleth\\\"}],\\\"heatmapgl\\\":[{\\\"colorbar\\\":{\\\"ticks\\\":\\\"\\\",\\\"outlinewidth\\\":0},\\\"type\\\":\\\"heatmapgl\\\",\\\"colorscale\\\":[[0.0,\\\"#0d0887\\\"],[0.1111111111111111,\\\"#46039f\\\"],[0.2222222222222222,\\\"#7201a8\\\"],[0.3333333333333333,\\\"#9c179e\\\"],[0.4444444444444444,\\\"#bd3786\\\"],[0.5555555555555556,\\\"#d8576b\\\"],[0.6666666666666666,\\\"#ed7953\\\"],[0.7777777777777778,\\\"#fb9f3a\\\"],[0.8888888888888888,\\\"#fdca26\\\"],[1.0,\\\"#f0f921\\\"]]}],\\\"bar\\\":[{\\\"type\\\":\\\"bar\\\",\\\"error_y\\\":{\\\"color\\\":\\\"#2a3f5f\\\"},\\\"error_x\\\":{\\\"color\\\":\\\"#2a3f5f\\\"},\\\"marker\\\":{\\\"line\\\":{\\\"color\\\":\\\"#E5ECF6\\\",\\\"width\\\":0.5}}}],\\\"heatmap\\\":[{\\\"colorbar\\\":{\\\"ticks\\\":\\\"\\\",\\\"outlinewidth\\\":0},\\\"type\\\":\\\"heatmap\\\",\\\"colorscale\\\":[[0.0,\\\"#0d0887\\\"],[0.1111111111111111,\\\"#46039f\\\"],[0.2222222222222222,\\\"#7201a8\\\"],[0.3333333333333333,\\\"#9c179e\\\"],[0.4444444444444444,\\\"#bd3786\\\"],[0.5555555555555556,\\\"#d8576b\\\"],[0.6666666666666666,\\\"#ed7953\\\"],[0.7777777777777778,\\\"#fb9f3a\\\"],[0.8888888888888888,\\\"#fdca26\\\"],[1.0,\\\"#f0f921\\\"]]}],\\\"contourcarpet\\\":[{\\\"colorbar\\\":{\\\"ticks\\\":\\\"\\\",\\\"outlinewidth\\\":0},\\\"type\\\":\\\"contourcarpet\\\"}],\\\"table\\\":[{\\\"type\\\":\\\"table\\\",\\\"header\\\":{\\\"line\\\":{\\\"color\\\":\\\"white\\\"},\\\"fill\\\":{\\\"color\\\":\\\"#C8D4E3\\\"}},\\\"cells\\\":{\\\"line\\\":{\\\"color\\\":\\\"white\\\"},\\\"fill\\\":{\\\"color\\\":\\\"#EBF0F8\\\"}}}],\\\"scatter3d\\\":[{\\\"line\\\":{\\\"colorbar\\\":{\\\"ticks\\\":\\\"\\\",\\\"outlinewidth\\\":0}},\\\"type\\\":\\\"scatter3d\\\",\\\"marker\\\":{\\\"colorbar\\\":{\\\"ticks\\\":\\\"\\\",\\\"outlinewidth\\\":0}}}],\\\"scattergl\\\":[{\\\"type\\\":\\\"scattergl\\\",\\\"marker\\\":{\\\"colorbar\\\":{\\\"ticks\\\":\\\"\\\",\\\"outlinewidth\\\":0}}}],\\\"histogram2d\\\":[{\\\"colorbar\\\":{\\\"ticks\\\":\\\"\\\",\\\"outlinewidth\\\":0},\\\"type\\\":\\\"histogram2d\\\",\\\"colorscale\\\":[[0.0,\\\"#0d0887\\\"],[0.1111111111111111,\\\"#46039f\\\"],[0.2222222222222222,\\\"#7201a8\\\"],[0.3333333333333333,\\\"#9c179e\\\"],[0.4444444444444444,\\\"#bd3786\\\"],[0.5555555555555556,\\\"#d8576b\\\"],[0.6666666666666666,\\\"#ed7953\\\"],[0.7777777777777778,\\\"#fb9f3a\\\"],[0.8888888888888888,\\\"#fdca26\\\"],[1.0,\\\"#f0f921\\\"]]}],\\\"scatterternary\\\":[{\\\"type\\\":\\\"scatterternary\\\",\\\"marker\\\":{\\\"colorbar\\\":{\\\"ticks\\\":\\\"\\\",\\\"outlinewidth\\\":0}}}],\\\"scatterpolargl\\\":[{\\\"type\\\":\\\"scatterpolargl\\\",\\\"marker\\\":{\\\"colorbar\\\":{\\\"ticks\\\":\\\"\\\",\\\"outlinewidth\\\":0}}}]}},\\\"scene\\\":{\\\"zaxis\\\":{\\\"type\\\":\\\"log\\\"}},\\\"margin\\\":{\\\"l\\\":50,\\\"b\\\":50,\\\"r\\\":50,\\\"t\\\":60}},{\\\"showLink\\\":false,\\\"editable\\\":false,\\\"responsive\\\":true,\\\"staticPlot\\\":false,\\\"scrollZoom\\\":true}); gd.on(\\\"plotly_hover\\\",(function (data){var filtered_data=WebIO.PlotlyCommands.filterEventData(gd,data,\\\"hover\\\"); return !(filtered_data.isnil) ? (WebIO.setval({\\\"name\\\":\\\"hover\\\",\\\"scope\\\":\\\"13635450486987919496\\\",\\\"id\\\":\\\"1\\\",\\\"type\\\":\\\"observable\\\"},filtered_data.out)) : undefined})); gd.on(\\\"plotly_unhover\\\",(function (){return WebIO.setval({\\\"name\\\":\\\"hover\\\",\\\"scope\\\":\\\"13635450486987919496\\\",\\\"id\\\":\\\"1\\\",\\\"type\\\":\\\"observable\\\"},{})})); gd.on(\\\"plotly_selected\\\",(function (data){var filtered_data=WebIO.PlotlyCommands.filterEventData(gd,data,\\\"selected\\\"); return !(filtered_data.isnil) ? (WebIO.setval({\\\"name\\\":\\\"selected\\\",\\\"scope\\\":\\\"13635450486987919496\\\",\\\"id\\\":\\\"2\\\",\\\"type\\\":\\\"observable\\\"},filtered_data.out)) : undefined})); gd.on(\\\"plotly_deselect\\\",(function (){return WebIO.setval({\\\"name\\\":\\\"selected\\\",\\\"scope\\\":\\\"13635450486987919496\\\",\\\"id\\\":\\\"2\\\",\\\"type\\\":\\\"observable\\\"},{})})); gd.on(\\\"plotly_relayout\\\",(function (data){var filtered_data=WebIO.PlotlyCommands.filterEventData(gd,data,\\\"relayout\\\"); return !(filtered_data.isnil) ? (WebIO.setval({\\\"name\\\":\\\"relayout\\\",\\\"scope\\\":\\\"13635450486987919496\\\",\\\"id\\\":\\\"4\\\",\\\"type\\\":\\\"observable\\\"},filtered_data.out)) : undefined})); return gd.on(\\\"plotly_click\\\",(function (data){var filtered_data=WebIO.PlotlyCommands.filterEventData(gd,data,\\\"click\\\"); return !(filtered_data.isnil) ? (WebIO.setval({\\\"name\\\":\\\"click\\\",\\\"scope\\\":\\\"13635450486987919496\\\",\\\"id\\\":\\\"3\\\",\\\"type\\\":\\\"observable\\\"},filtered_data.out)) : undefined}))}));\\n    (WebIO.importBlock({\\\"data\\\":[{\\\"name\\\":\\\"Plotly\\\",\\\"type\\\":\\\"js\\\",\\\"url\\\":\\\"\\/assetserver\\/33f09e3ca914e7126c73593991af22b1236bbe48-plotly.min.js\\\"},{\\\"name\\\":null,\\\"type\\\":\\\"js\\\",\\\"url\\\":\\\"\\/assetserver\\/89228d7dd77d270397221c677620e638e8b8b451-plotly_webio.bundle.js\\\"}],\\\"type\\\":\\\"async_block\\\"})).then((imports) => handler.apply(this, imports));\\n}\\n\"],\"observables\":{\"_toImage\":{\"sync\":false,\"id\":\"8\",\"value\":{}},\"hover\":{\"sync\":false,\"id\":\"1\",\"value\":{}},\"selected\":{\"sync\":false,\"id\":\"2\",\"value\":{}},\"__gd_contents\":{\"sync\":false,\"id\":\"6\",\"value\":{}},\"click\":{\"sync\":false,\"id\":\"3\",\"value\":{}},\"image\":{\"sync\":true,\"id\":\"5\",\"value\":\"\"},\"__get_gd_contents\":{\"sync\":false,\"id\":\"10\",\"value\":\"\"},\"_downloadImage\":{\"sync\":false,\"id\":\"9\",\"value\":{}},\"relayout\":{\"sync\":false,\"id\":\"4\",\"value\":{}},\"_commands\":{\"sync\":false,\"id\":\"7\",\"value\":[]}}},\"children\":[{\"props\":{\"id\":\"plot-fdafb9aa-34c1-4d56-9fbf-b20b0a0109a2\"},\"nodeType\":\"DOM\",\"type\":\"node\",\"instanceArgs\":{\"namespace\":\"html\",\"tag\":\"div\"},\"children\":[]}]},\n",
       "        window,\n",
       "    );\n",
       "    })()\n",
       "    </script>\n",
       "</div>\n"
      ],
      "text/plain": [
       "data: [\n",
       "  \"scatter3d with fields marker, mode, type, x, y, and z\",\n",
       "  \"scatter3d with fields marker, mode, type, x, y, and z\"\n",
       "]\n",
       "\n",
       "layout: \"layout with fields margin, scene, and template\"\n",
       "\n"
      ]
     },
     "metadata": {},
     "output_type": "display_data"
    }
   ],
   "source": [
    "trace_dots = scatter3d(\n",
    "    df,\n",
    "    x=:x,\n",
    "    y=:y,\n",
    "    z=:z,\n",
    "    mode=\"markers\",\n",
    "    marker=attr(\n",
    "        size=:5,\n",
    "        color=:is_targeted,\n",
    "        sizemode=\"diameter\"\n",
    "    )\n",
    ")\n",
    "trace_bubble = scatter3d(\n",
    "    centers_targets,\n",
    "    x=:x,\n",
    "    y=:y,\n",
    "    z=:z,\n",
    "    mode=\"markers\",\n",
    "    marker=attr(\n",
    "        size=RADIUS_DAMAGE * 2,\n",
    "        sizeref=750,\n",
    "        color=\"red\",\n",
    "        sizemode=\"diameter\",\n",
    "        opacity=0.4,\n",
    "    )\n",
    ")\n",
    "\n",
    "layout = Layout(scene_zaxis_type=\"log\")\n",
    "plot([trace_dots, trace_bubble], layout)"
   ]
  }
 ],
 "metadata": {
  "kernelspec": {
   "display_name": "Julia 1.10.0",
   "language": "julia",
   "name": "julia-1.10"
  },
  "language_info": {
   "file_extension": ".jl",
   "mimetype": "application/julia",
   "name": "julia",
   "version": "1.10.0"
  }
 },
 "nbformat": 4,
 "nbformat_minor": 2
}
